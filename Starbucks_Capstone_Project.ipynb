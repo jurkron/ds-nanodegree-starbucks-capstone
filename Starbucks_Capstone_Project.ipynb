{
 "cells": [
  {
   "cell_type": "markdown",
   "id": "77fd7a4d",
   "metadata": {},
   "source": [
    "# Starbuck Capstone Challenge\n",
    "\n",
    "## Project Overview\n",
    "\n",
    "This notebook contains my capstone project for the data science nanodegree from Udacity. I'm using the data from Starbucks, that contains simulated mimics customer behavior. Once every few days, Starbucks sends offers to users of their app. These offers can be advertisements for a drink or an actual offer or a BOGO (buy one get one free). Not all users receive the same offer.\n",
    "\n",
    "## Project Statement\n",
    "\n",
    "The problem I'm trying to solve with this projects is find the right users for the right offer. While some user need an offer or a BOGO to buy something, others just need an advertisment or even not that. So the question is: Can I find a model that predicts how a customer will interact with an offer?\n",
    "\n",
    "## Metrics \n",
    "\n",
    "The metrics I'll use to validate my model are accurracy and the f1-score. Because I'll have a multiclassifier (\"Received\", \"Viewed\", \"Completed\") I have to use the f1-score weighted. \n"
   ]
  },
  {
   "cell_type": "code",
   "execution_count": 1,
   "id": "b9806784",
   "metadata": {},
   "outputs": [],
   "source": [
    "import pandas as pd\n",
    "import numpy as np\n",
    "import math\n",
    "import json\n",
    "import matplotlib.pyplot as plt\n",
    "import seaborn as sns\n",
    "%matplotlib inline\n",
    "\n",
    "# read in the json files\n",
    "portfolio = pd.read_json('data/portfolio.json', orient='records', lines=True)\n",
    "profile = pd.read_json('data/profile.json', orient='records', lines=True)\n",
    "transcript = pd.read_json('data/transcript.json', orient='records', lines=True)"
   ]
  },
  {
   "cell_type": "markdown",
   "id": "c3597c33",
   "metadata": {},
   "source": [
    "## Data Exploration\n",
    "\n",
    "The data given from Starbucks is contained in three files:\n",
    "\n",
    "* portfolio.json - containing offer ids and meta data about each offer (duration, type, etc.)\n",
    "* profile.json - demographic data for each customer\n",
    "* transcript.json - records for transactions, offers received, offers viewed, and offers completed\n",
    "\n",
    "Here is the schema and explanation of each variable in the files:\n",
    "\n",
    "**portfolio.json**\n",
    "* id (string) - offer id\n",
    "* offer_type (string) - type of offer ie BOGO, discount, informational\n",
    "* difficulty (int) - minimum required spend to complete an offer\n",
    "* reward (int) - reward given for completing an offer\n",
    "* duration (int) - time for offer to be open, in days\n",
    "* channels (list of strings)\n",
    "\n",
    "**profile.json**\n",
    "* age (int) - age of the customer \n",
    "* became_member_on (int) - date when customer created an app account\n",
    "* gender (str) - gender of the customer (note some entries contain 'O' for other rather than M or F)\n",
    "* id (str) - customer id\n",
    "* income (float) - customer's income\n",
    "\n",
    "**transcript.json**\n",
    "* event (str) - record description (ie transaction, offer received, offer viewed, etc.)\n",
    "* person (str) - customer id\n",
    "* time (int) - time in hours since start of test. The data begins at time t=0\n",
    "* value - (dict of strings) - either an offer id or transaction amount depending on the record\n",
    "\n",
    "While this syntactic description of the data comes with the origin project, I'll look at the semantic details for every dataframe. \n",
    "\n",
    "#### Portfolie\n",
    "\n",
    "There are 10 items with 6 features in. We have 4 bogos and 4 discounts, which means there are 8 different offers with an reward value and two items that are just informational. This dataset is very clean without any missing data."
   ]
  },
  {
   "cell_type": "code",
   "execution_count": 2,
   "id": "0094fbdb",
   "metadata": {},
   "outputs": [
    {
     "data": {
      "text/html": [
       "<div>\n",
       "<style scoped>\n",
       "    .dataframe tbody tr th:only-of-type {\n",
       "        vertical-align: middle;\n",
       "    }\n",
       "\n",
       "    .dataframe tbody tr th {\n",
       "        vertical-align: top;\n",
       "    }\n",
       "\n",
       "    .dataframe thead th {\n",
       "        text-align: right;\n",
       "    }\n",
       "</style>\n",
       "<table border=\"1\" class=\"dataframe\">\n",
       "  <thead>\n",
       "    <tr style=\"text-align: right;\">\n",
       "      <th></th>\n",
       "      <th>reward</th>\n",
       "      <th>channels</th>\n",
       "      <th>difficulty</th>\n",
       "      <th>duration</th>\n",
       "      <th>offer_type</th>\n",
       "      <th>id</th>\n",
       "    </tr>\n",
       "  </thead>\n",
       "  <tbody>\n",
       "    <tr>\n",
       "      <th>0</th>\n",
       "      <td>10</td>\n",
       "      <td>[email, mobile, social]</td>\n",
       "      <td>10</td>\n",
       "      <td>7</td>\n",
       "      <td>bogo</td>\n",
       "      <td>ae264e3637204a6fb9bb56bc8210ddfd</td>\n",
       "    </tr>\n",
       "    <tr>\n",
       "      <th>1</th>\n",
       "      <td>10</td>\n",
       "      <td>[web, email, mobile, social]</td>\n",
       "      <td>10</td>\n",
       "      <td>5</td>\n",
       "      <td>bogo</td>\n",
       "      <td>4d5c57ea9a6940dd891ad53e9dbe8da0</td>\n",
       "    </tr>\n",
       "    <tr>\n",
       "      <th>2</th>\n",
       "      <td>0</td>\n",
       "      <td>[web, email, mobile]</td>\n",
       "      <td>0</td>\n",
       "      <td>4</td>\n",
       "      <td>informational</td>\n",
       "      <td>3f207df678b143eea3cee63160fa8bed</td>\n",
       "    </tr>\n",
       "    <tr>\n",
       "      <th>3</th>\n",
       "      <td>5</td>\n",
       "      <td>[web, email, mobile]</td>\n",
       "      <td>5</td>\n",
       "      <td>7</td>\n",
       "      <td>bogo</td>\n",
       "      <td>9b98b8c7a33c4b65b9aebfe6a799e6d9</td>\n",
       "    </tr>\n",
       "    <tr>\n",
       "      <th>4</th>\n",
       "      <td>5</td>\n",
       "      <td>[web, email]</td>\n",
       "      <td>20</td>\n",
       "      <td>10</td>\n",
       "      <td>discount</td>\n",
       "      <td>0b1e1539f2cc45b7b9fa7c272da2e1d7</td>\n",
       "    </tr>\n",
       "    <tr>\n",
       "      <th>5</th>\n",
       "      <td>3</td>\n",
       "      <td>[web, email, mobile, social]</td>\n",
       "      <td>7</td>\n",
       "      <td>7</td>\n",
       "      <td>discount</td>\n",
       "      <td>2298d6c36e964ae4a3e7e9706d1fb8c2</td>\n",
       "    </tr>\n",
       "    <tr>\n",
       "      <th>6</th>\n",
       "      <td>2</td>\n",
       "      <td>[web, email, mobile, social]</td>\n",
       "      <td>10</td>\n",
       "      <td>10</td>\n",
       "      <td>discount</td>\n",
       "      <td>fafdcd668e3743c1bb461111dcafc2a4</td>\n",
       "    </tr>\n",
       "    <tr>\n",
       "      <th>7</th>\n",
       "      <td>0</td>\n",
       "      <td>[email, mobile, social]</td>\n",
       "      <td>0</td>\n",
       "      <td>3</td>\n",
       "      <td>informational</td>\n",
       "      <td>5a8bc65990b245e5a138643cd4eb9837</td>\n",
       "    </tr>\n",
       "    <tr>\n",
       "      <th>8</th>\n",
       "      <td>5</td>\n",
       "      <td>[web, email, mobile, social]</td>\n",
       "      <td>5</td>\n",
       "      <td>5</td>\n",
       "      <td>bogo</td>\n",
       "      <td>f19421c1d4aa40978ebb69ca19b0e20d</td>\n",
       "    </tr>\n",
       "    <tr>\n",
       "      <th>9</th>\n",
       "      <td>2</td>\n",
       "      <td>[web, email, mobile]</td>\n",
       "      <td>10</td>\n",
       "      <td>7</td>\n",
       "      <td>discount</td>\n",
       "      <td>2906b810c7d4411798c6938adc9daaa5</td>\n",
       "    </tr>\n",
       "  </tbody>\n",
       "</table>\n",
       "</div>"
      ],
      "text/plain": [
       "   reward                      channels  difficulty  duration     offer_type  \\\n",
       "0      10       [email, mobile, social]          10         7           bogo   \n",
       "1      10  [web, email, mobile, social]          10         5           bogo   \n",
       "2       0          [web, email, mobile]           0         4  informational   \n",
       "3       5          [web, email, mobile]           5         7           bogo   \n",
       "4       5                  [web, email]          20        10       discount   \n",
       "5       3  [web, email, mobile, social]           7         7       discount   \n",
       "6       2  [web, email, mobile, social]          10        10       discount   \n",
       "7       0       [email, mobile, social]           0         3  informational   \n",
       "8       5  [web, email, mobile, social]           5         5           bogo   \n",
       "9       2          [web, email, mobile]          10         7       discount   \n",
       "\n",
       "                                 id  \n",
       "0  ae264e3637204a6fb9bb56bc8210ddfd  \n",
       "1  4d5c57ea9a6940dd891ad53e9dbe8da0  \n",
       "2  3f207df678b143eea3cee63160fa8bed  \n",
       "3  9b98b8c7a33c4b65b9aebfe6a799e6d9  \n",
       "4  0b1e1539f2cc45b7b9fa7c272da2e1d7  \n",
       "5  2298d6c36e964ae4a3e7e9706d1fb8c2  \n",
       "6  fafdcd668e3743c1bb461111dcafc2a4  \n",
       "7  5a8bc65990b245e5a138643cd4eb9837  \n",
       "8  f19421c1d4aa40978ebb69ca19b0e20d  \n",
       "9  2906b810c7d4411798c6938adc9daaa5  "
      ]
     },
     "execution_count": 2,
     "metadata": {},
     "output_type": "execute_result"
    }
   ],
   "source": [
    "portfolio"
   ]
  },
  {
   "cell_type": "markdown",
   "id": "9100109d",
   "metadata": {},
   "source": [
    "#### Profile\n",
    "\n",
    "This dataset contains 17000 userdata with the features gender, age, when the became a member and their income. Each item also contains an id, which is unique, to identify the user. Let's have a quick view on the first items of that dataset."
   ]
  },
  {
   "cell_type": "code",
   "execution_count": 3,
   "id": "7d24c588",
   "metadata": {},
   "outputs": [
    {
     "data": {
      "text/html": [
       "<div>\n",
       "<style scoped>\n",
       "    .dataframe tbody tr th:only-of-type {\n",
       "        vertical-align: middle;\n",
       "    }\n",
       "\n",
       "    .dataframe tbody tr th {\n",
       "        vertical-align: top;\n",
       "    }\n",
       "\n",
       "    .dataframe thead th {\n",
       "        text-align: right;\n",
       "    }\n",
       "</style>\n",
       "<table border=\"1\" class=\"dataframe\">\n",
       "  <thead>\n",
       "    <tr style=\"text-align: right;\">\n",
       "      <th></th>\n",
       "      <th>gender</th>\n",
       "      <th>age</th>\n",
       "      <th>id</th>\n",
       "      <th>became_member_on</th>\n",
       "      <th>income</th>\n",
       "    </tr>\n",
       "  </thead>\n",
       "  <tbody>\n",
       "    <tr>\n",
       "      <th>0</th>\n",
       "      <td>None</td>\n",
       "      <td>118</td>\n",
       "      <td>68be06ca386d4c31939f3a4f0e3dd783</td>\n",
       "      <td>20170212</td>\n",
       "      <td>NaN</td>\n",
       "    </tr>\n",
       "    <tr>\n",
       "      <th>1</th>\n",
       "      <td>F</td>\n",
       "      <td>55</td>\n",
       "      <td>0610b486422d4921ae7d2bf64640c50b</td>\n",
       "      <td>20170715</td>\n",
       "      <td>112000.0</td>\n",
       "    </tr>\n",
       "    <tr>\n",
       "      <th>2</th>\n",
       "      <td>None</td>\n",
       "      <td>118</td>\n",
       "      <td>38fe809add3b4fcf9315a9694bb96ff5</td>\n",
       "      <td>20180712</td>\n",
       "      <td>NaN</td>\n",
       "    </tr>\n",
       "    <tr>\n",
       "      <th>3</th>\n",
       "      <td>F</td>\n",
       "      <td>75</td>\n",
       "      <td>78afa995795e4d85b5d9ceeca43f5fef</td>\n",
       "      <td>20170509</td>\n",
       "      <td>100000.0</td>\n",
       "    </tr>\n",
       "    <tr>\n",
       "      <th>4</th>\n",
       "      <td>None</td>\n",
       "      <td>118</td>\n",
       "      <td>a03223e636434f42ac4c3df47e8bac43</td>\n",
       "      <td>20170804</td>\n",
       "      <td>NaN</td>\n",
       "    </tr>\n",
       "  </tbody>\n",
       "</table>\n",
       "</div>"
      ],
      "text/plain": [
       "  gender  age                                id  became_member_on    income\n",
       "0   None  118  68be06ca386d4c31939f3a4f0e3dd783          20170212       NaN\n",
       "1      F   55  0610b486422d4921ae7d2bf64640c50b          20170715  112000.0\n",
       "2   None  118  38fe809add3b4fcf9315a9694bb96ff5          20180712       NaN\n",
       "3      F   75  78afa995795e4d85b5d9ceeca43f5fef          20170509  100000.0\n",
       "4   None  118  a03223e636434f42ac4c3df47e8bac43          20170804       NaN"
      ]
     },
     "execution_count": 3,
     "metadata": {},
     "output_type": "execute_result"
    }
   ],
   "source": [
    "profile.head()"
   ]
  },
  {
   "cell_type": "markdown",
   "id": "55c528b0",
   "metadata": {},
   "source": [
    "As we can see, there are some missing values in that dataframe and because of the size of the dataset I always starts to get some information about the dataset by calling info.\n",
    "Unforunately there are 2175 items with missing values in gender and income and all of them are exactly 118 years old, which can be counted as missing too. "
   ]
  },
  {
   "cell_type": "code",
   "execution_count": 4,
   "id": "656b58f6",
   "metadata": {},
   "outputs": [
    {
     "name": "stdout",
     "output_type": "stream",
     "text": [
      "<class 'pandas.core.frame.DataFrame'>\n",
      "RangeIndex: 17000 entries, 0 to 16999\n",
      "Data columns (total 5 columns):\n",
      " #   Column            Non-Null Count  Dtype  \n",
      "---  ------            --------------  -----  \n",
      " 0   gender            14825 non-null  object \n",
      " 1   age               17000 non-null  int64  \n",
      " 2   id                17000 non-null  object \n",
      " 3   became_member_on  17000 non-null  int64  \n",
      " 4   income            14825 non-null  float64\n",
      "dtypes: float64(1), int64(2), object(2)\n",
      "memory usage: 664.2+ KB\n"
     ]
    }
   ],
   "source": [
    "profile.info()"
   ]
  },
  {
   "cell_type": "markdown",
   "id": "aa50dd24",
   "metadata": {},
   "source": [
    "From this info we see the dataset has 2175 missing data points in gender and also in income. The first rows of the profile dataset tells us, that everytime we don't have a gender, we also missing the income and see an age of 118, which can be counted as missing too. I checked the rows where any data is missing and also the items where age is 118. They are the same rows and the only feature left for these items is when these users became a member.\n"
   ]
  },
  {
   "cell_type": "code",
   "execution_count": 5,
   "id": "c87cb363",
   "metadata": {},
   "outputs": [
    {
     "name": "stdout",
     "output_type": "stream",
     "text": [
      "<class 'pandas.core.frame.DataFrame'>\n",
      "Int64Index: 2175 entries, 0 to 16994\n",
      "Data columns (total 5 columns):\n",
      " #   Column            Non-Null Count  Dtype  \n",
      "---  ------            --------------  -----  \n",
      " 0   gender            0 non-null      object \n",
      " 1   age               2175 non-null   int64  \n",
      " 2   id                2175 non-null   object \n",
      " 3   became_member_on  2175 non-null   int64  \n",
      " 4   income            0 non-null      float64\n",
      "dtypes: float64(1), int64(2), object(2)\n",
      "memory usage: 102.0+ KB\n"
     ]
    }
   ],
   "source": [
    "profile[profile.isna().any(axis=1)].info()"
   ]
  },
  {
   "cell_type": "code",
   "execution_count": 6,
   "id": "ff2c0f91",
   "metadata": {},
   "outputs": [
    {
     "name": "stdout",
     "output_type": "stream",
     "text": [
      "<class 'pandas.core.frame.DataFrame'>\n",
      "Int64Index: 2175 entries, 0 to 16994\n",
      "Data columns (total 5 columns):\n",
      " #   Column            Non-Null Count  Dtype  \n",
      "---  ------            --------------  -----  \n",
      " 0   gender            0 non-null      object \n",
      " 1   age               2175 non-null   int64  \n",
      " 2   id                2175 non-null   object \n",
      " 3   became_member_on  2175 non-null   int64  \n",
      " 4   income            0 non-null      float64\n",
      "dtypes: float64(1), int64(2), object(2)\n",
      "memory usage: 102.0+ KB\n"
     ]
    }
   ],
   "source": [
    "profile[profile['age']==118].info()"
   ]
  },
  {
   "cell_type": "markdown",
   "id": "e51323ad",
   "metadata": {},
   "source": [
    "A look at the gender columns tells us, that we have more male than female users and a very few others, but the main information for now is, that this data is very clean, which is very good."
   ]
  },
  {
   "cell_type": "code",
   "execution_count": 7,
   "id": "a2b319dd",
   "metadata": {},
   "outputs": [
    {
     "data": {
      "text/plain": [
       "M    8484\n",
       "F    6129\n",
       "O     212\n",
       "Name: gender, dtype: int64"
      ]
     },
     "execution_count": 7,
     "metadata": {},
     "output_type": "execute_result"
    }
   ],
   "source": [
    "profile['gender'].value_counts()"
   ]
  },
  {
   "cell_type": "markdown",
   "id": "35678b7f",
   "metadata": {},
   "source": [
    "Last point for the profile dataset is a quick view at the histogramm. We can see most of the users have an age of around 50 and we also see the peak at 118 (the \"missing\" datapoints), we also see with the time more and more users became members, which tells us that the app and the company seems to be successful at least in recruiting new customers. Most of the customers have an income between 50 and 75 thousand. \n",
    "\n",
    " "
   ]
  },
  {
   "cell_type": "code",
   "execution_count": 8,
   "id": "643b51ec",
   "metadata": {},
   "outputs": [
    {
     "data": {
      "text/plain": [
       "array([[<AxesSubplot:title={'center':'age'}>,\n",
       "        <AxesSubplot:title={'center':'became_member_on'}>],\n",
       "       [<AxesSubplot:title={'center':'income'}>, <AxesSubplot:>]],\n",
       "      dtype=object)"
      ]
     },
     "execution_count": 8,
     "metadata": {},
     "output_type": "execute_result"
    },
    {
     "data": {
      "image/png": "[encoded data removed]",
      "text/plain": [
       "<Figure size 432x288 with 4 Axes>"
      ]
     },
     "metadata": {
      "needs_background": "light"
     },
     "output_type": "display_data"
    }
   ],
   "source": [
    "profile.hist()"
   ]
  },
  {
   "cell_type": "markdown",
   "id": "fb9cf60b",
   "metadata": {},
   "source": [
    "Because there is no information about the currency I'll assume that this value is the same for all (I guess it's US dollar). There is also no information about the location people live in. There might be some differences in the income and maybe also in the price for Starbucks products?"
   ]
  },
  {
   "cell_type": "markdown",
   "id": "03b8f410",
   "metadata": {},
   "source": [
    "#### Transcript\n",
    "\n",
    "The third and last dataframe of the complete dataset for this project contains all interaction between users and an offer from Starbucks. Let's start with a quick view into the head of this dataset and because of the size also have a look at the info for the dataset."
   ]
  },
  {
   "cell_type": "code",
   "execution_count": 9,
   "id": "b4423511",
   "metadata": {},
   "outputs": [
    {
     "data": {
      "text/html": [
       "<div>\n",
       "<style scoped>\n",
       "    .dataframe tbody tr th:only-of-type {\n",
       "        vertical-align: middle;\n",
       "    }\n",
       "\n",
       "    .dataframe tbody tr th {\n",
       "        vertical-align: top;\n",
       "    }\n",
       "\n",
       "    .dataframe thead th {\n",
       "        text-align: right;\n",
       "    }\n",
       "</style>\n",
       "<table border=\"1\" class=\"dataframe\">\n",
       "  <thead>\n",
       "    <tr style=\"text-align: right;\">\n",
       "      <th></th>\n",
       "      <th>person</th>\n",
       "      <th>event</th>\n",
       "      <th>value</th>\n",
       "      <th>time</th>\n",
       "    </tr>\n",
       "  </thead>\n",
       "  <tbody>\n",
       "    <tr>\n",
       "      <th>0</th>\n",
       "      <td>78afa995795e4d85b5d9ceeca43f5fef</td>\n",
       "      <td>offer received</td>\n",
       "      <td>{'offer id': '9b98b8c7a33c4b65b9aebfe6a799e6d9'}</td>\n",
       "      <td>0</td>\n",
       "    </tr>\n",
       "    <tr>\n",
       "      <th>1</th>\n",
       "      <td>a03223e636434f42ac4c3df47e8bac43</td>\n",
       "      <td>offer received</td>\n",
       "      <td>{'offer id': '0b1e1539f2cc45b7b9fa7c272da2e1d7'}</td>\n",
       "      <td>0</td>\n",
       "    </tr>\n",
       "    <tr>\n",
       "      <th>2</th>\n",
       "      <td>e2127556f4f64592b11af22de27a7932</td>\n",
       "      <td>offer received</td>\n",
       "      <td>{'offer id': '2906b810c7d4411798c6938adc9daaa5'}</td>\n",
       "      <td>0</td>\n",
       "    </tr>\n",
       "    <tr>\n",
       "      <th>3</th>\n",
       "      <td>8ec6ce2a7e7949b1bf142def7d0e0586</td>\n",
       "      <td>offer received</td>\n",
       "      <td>{'offer id': 'fafdcd668e3743c1bb461111dcafc2a4'}</td>\n",
       "      <td>0</td>\n",
       "    </tr>\n",
       "    <tr>\n",
       "      <th>4</th>\n",
       "      <td>68617ca6246f4fbc85e91a2a49552598</td>\n",
       "      <td>offer received</td>\n",
       "      <td>{'offer id': '4d5c57ea9a6940dd891ad53e9dbe8da0'}</td>\n",
       "      <td>0</td>\n",
       "    </tr>\n",
       "  </tbody>\n",
       "</table>\n",
       "</div>"
      ],
      "text/plain": [
       "                             person           event  \\\n",
       "0  78afa995795e4d85b5d9ceeca43f5fef  offer received   \n",
       "1  a03223e636434f42ac4c3df47e8bac43  offer received   \n",
       "2  e2127556f4f64592b11af22de27a7932  offer received   \n",
       "3  8ec6ce2a7e7949b1bf142def7d0e0586  offer received   \n",
       "4  68617ca6246f4fbc85e91a2a49552598  offer received   \n",
       "\n",
       "                                              value  time  \n",
       "0  {'offer id': '9b98b8c7a33c4b65b9aebfe6a799e6d9'}     0  \n",
       "1  {'offer id': '0b1e1539f2cc45b7b9fa7c272da2e1d7'}     0  \n",
       "2  {'offer id': '2906b810c7d4411798c6938adc9daaa5'}     0  \n",
       "3  {'offer id': 'fafdcd668e3743c1bb461111dcafc2a4'}     0  \n",
       "4  {'offer id': '4d5c57ea9a6940dd891ad53e9dbe8da0'}     0  "
      ]
     },
     "execution_count": 9,
     "metadata": {},
     "output_type": "execute_result"
    }
   ],
   "source": [
    "transcript.head()"
   ]
  },
  {
   "cell_type": "code",
   "execution_count": 10,
   "id": "fa30e8d7",
   "metadata": {},
   "outputs": [
    {
     "name": "stdout",
     "output_type": "stream",
     "text": [
      "<class 'pandas.core.frame.DataFrame'>\n",
      "RangeIndex: 306534 entries, 0 to 306533\n",
      "Data columns (total 4 columns):\n",
      " #   Column  Non-Null Count   Dtype \n",
      "---  ------  --------------   ----- \n",
      " 0   person  306534 non-null  object\n",
      " 1   event   306534 non-null  object\n",
      " 2   value   306534 non-null  object\n",
      " 3   time    306534 non-null  int64 \n",
      "dtypes: int64(1), object(3)\n",
      "memory usage: 9.4+ MB\n"
     ]
    }
   ],
   "source": [
    "transcript.info()"
   ]
  },
  {
   "cell_type": "markdown",
   "id": "a0d563bc",
   "metadata": {},
   "source": [
    "The feeling of the view into the first rows can be confirmed with the info call. There are no missing data. Remember time shows the hours since this test dataset starts and it begins by hour 0.\n",
    "\n",
    "Let's have a closer look at the time column and print some histogramms. First I want to see a histogram of only the offer received events."
   ]
  },
  {
   "cell_type": "code",
   "execution_count": 11,
   "id": "5d5799bf",
   "metadata": {},
   "outputs": [
    {
     "data": {
      "text/plain": [
       "array([[<AxesSubplot:title={'center':'time'}>]], dtype=object)"
      ]
     },
     "execution_count": 11,
     "metadata": {},
     "output_type": "execute_result"
    },
    {
     "data": {
      "image/png": "[encoded data removed]",
      "text/plain": [
       "<Figure size 432x288 with 1 Axes>"
      ]
     },
     "metadata": {
      "needs_background": "light"
     },
     "output_type": "display_data"
    }
   ],
   "source": [
    "transcript[transcript['event']==('offer received')].hist(bins=20)"
   ]
  },
  {
   "cell_type": "markdown",
   "id": "fd65ed29",
   "metadata": {},
   "source": [
    "The histogramm shows the offers received events. So there seems to be 6 times in the data when Starbucks send an offer. Let's check that."
   ]
  },
  {
   "cell_type": "code",
   "execution_count": 12,
   "id": "496e4aaf",
   "metadata": {},
   "outputs": [
    {
     "data": {
      "text/plain": [
       "408    12778\n",
       "576    12765\n",
       "336    12711\n",
       "504    12704\n",
       "168    12669\n",
       "0      12650\n",
       "Name: time, dtype: int64"
      ]
     },
     "execution_count": 12,
     "metadata": {},
     "output_type": "execute_result"
    }
   ],
   "source": [
    "transcript[transcript['event']==('offer received')]['time'].value_counts()"
   ]
  },
  {
   "cell_type": "markdown",
   "id": "b9d138ff",
   "metadata": {},
   "source": [
    "6 datapoints are confirmed. What about the \"offer viewed\" events? Can we see any relation to the \"offer received\" events? I would expect a peak when the customer receives the offer and than an decreasing number of events in time."
   ]
  },
  {
   "cell_type": "code",
   "execution_count": 13,
   "id": "cc8d81d3",
   "metadata": {},
   "outputs": [
    {
     "data": {
      "image/png": "[encoded data removed]",
      "text/plain": [
       "<Figure size 432x288 with 1 Axes>"
      ]
     },
     "metadata": {},
     "output_type": "display_data"
    }
   ],
   "source": [
    "sns.set_theme(style=\"whitegrid\")\n",
    "sns.countplot(x = 'time', data = transcript[transcript['event']=='offer viewed'],  palette = 'magma')\n",
    "plt.title('Events')\n",
    "plt.show()"
   ]
  },
  {
   "cell_type": "markdown",
   "id": "24c19247",
   "metadata": {},
   "source": [
    "The above diagram shows exactly what I expected before. Lets also check the \"offer completed\" events. "
   ]
  },
  {
   "cell_type": "code",
   "execution_count": 14,
   "id": "30881524",
   "metadata": {},
   "outputs": [
    {
     "data": {
      "image/png": "[encoded data removed]",
      "text/plain": [
       "<Figure size 432x288 with 1 Axes>"
      ]
     },
     "metadata": {},
     "output_type": "display_data"
    }
   ],
   "source": [
    "sns.set_theme(style=\"whitegrid\")\n",
    "sns.countplot(x = 'time', data = transcript[transcript['event']=='offer completed'],  palette = 'magma')\n",
    "plt.title('Events')\n",
    "plt.show()"
   ]
  },
  {
   "cell_type": "markdown",
   "id": "7a2532f1",
   "metadata": {},
   "source": [
    "Again, there is a peak in the \"offer completed\" datapoint when the offer was received and we also have that number of events decreasing like in the \"offer viewed\" data.\n",
    "\n",
    "There is another question about how many events of each type does the dataset contain."
   ]
  },
  {
   "cell_type": "code",
   "execution_count": 15,
   "id": "182eeb00",
   "metadata": {},
   "outputs": [
    {
     "data": {
      "text/plain": [
       "transaction        138953\n",
       "offer received      76277\n",
       "offer viewed        57725\n",
       "offer completed     33579\n",
       "Name: event, dtype: int64"
      ]
     },
     "execution_count": 15,
     "metadata": {},
     "output_type": "execute_result"
    }
   ],
   "source": [
    "transcript['event'].value_counts()"
   ]
  },
  {
   "cell_type": "markdown",
   "id": "54d413e3",
   "metadata": {},
   "source": [
    "This is not really surprising. Nearly 20 thousand received offer are not even viewed by customers during the time of the given data and also more than 20 thousand viewed offers do not complete. \n",
    "\n",
    "Until now I had a closer look at the offer events, but there is another event in the transcript dataset called \"transaction\". These are real transactions from customers. I'll not use these \"transaction\" events in this project.\n",
    "\n",
    "After checking all three datasets, I found very clean and usefull data. There are these 2175 users which are 13 % of the users where we have no gender, age or income, which I need to handle in the next part of this project, the preparation of the data."
   ]
  },
  {
   "cell_type": "markdown",
   "id": "5e70f47c",
   "metadata": {},
   "source": [
    "## Data Preprocessing\n",
    "\n",
    "The aim of this part is to create a dataset that contains user offer interactions. Let me explain this a bit more. We have 6 times Starbucks sends offers to some of their customers. My offers dataframe should contain for each customer id and offer id a time for receiving, viewing and completing.\n",
    "\n",
    "Since the value column contains a dictionary I need a function that unwraps the offer id from that. This is waht the next function will do."
   ]
  },
  {
   "cell_type": "code",
   "execution_count": 16,
   "id": "b49e29cc",
   "metadata": {},
   "outputs": [],
   "source": [
    "def unwrapDictionary(df, dictVar, col):\n",
    "    '''\n",
    "    Unwraps the value column from transcript dataframe into the given column\n",
    "    \n",
    "    INPUT:\n",
    "    df - dataframe that contains the dictionary in column \"value\"\n",
    "    dictVar - name of the variable in the dictionary \n",
    "    col - name of the column, where the value of the dictVar should be saved into\n",
    "    '''\n",
    "    df[col] = [v.get(dictVar) for v in df['value']]\n"
   ]
  },
  {
   "cell_type": "markdown",
   "id": "6197e2ac",
   "metadata": {},
   "source": [
    "Using this function I'll create three different dataframes for the events \"offer received\", \"offer viewed\" and \"offer completed\". The viewed and completed dataframe get also a new column with a specific time label, which I'll use in the next step."
   ]
  },
  {
   "cell_type": "code",
   "execution_count": 17,
   "id": "91109a77",
   "metadata": {},
   "outputs": [
    {
     "data": {
      "text/html": [
       "<div>\n",
       "<style scoped>\n",
       "    .dataframe tbody tr th:only-of-type {\n",
       "        vertical-align: middle;\n",
       "    }\n",
       "\n",
       "    .dataframe tbody tr th {\n",
       "        vertical-align: top;\n",
       "    }\n",
       "\n",
       "    .dataframe thead th {\n",
       "        text-align: right;\n",
       "    }\n",
       "</style>\n",
       "<table border=\"1\" class=\"dataframe\">\n",
       "  <thead>\n",
       "    <tr style=\"text-align: right;\">\n",
       "      <th></th>\n",
       "      <th>person</th>\n",
       "      <th>event</th>\n",
       "      <th>value</th>\n",
       "      <th>time</th>\n",
       "      <th>offer_id</th>\n",
       "    </tr>\n",
       "  </thead>\n",
       "  <tbody>\n",
       "    <tr>\n",
       "      <th>0</th>\n",
       "      <td>78afa995795e4d85b5d9ceeca43f5fef</td>\n",
       "      <td>offer received</td>\n",
       "      <td>{'offer id': '9b98b8c7a33c4b65b9aebfe6a799e6d9'}</td>\n",
       "      <td>0</td>\n",
       "      <td>9b98b8c7a33c4b65b9aebfe6a799e6d9</td>\n",
       "    </tr>\n",
       "    <tr>\n",
       "      <th>1</th>\n",
       "      <td>a03223e636434f42ac4c3df47e8bac43</td>\n",
       "      <td>offer received</td>\n",
       "      <td>{'offer id': '0b1e1539f2cc45b7b9fa7c272da2e1d7'}</td>\n",
       "      <td>0</td>\n",
       "      <td>0b1e1539f2cc45b7b9fa7c272da2e1d7</td>\n",
       "    </tr>\n",
       "    <tr>\n",
       "      <th>2</th>\n",
       "      <td>e2127556f4f64592b11af22de27a7932</td>\n",
       "      <td>offer received</td>\n",
       "      <td>{'offer id': '2906b810c7d4411798c6938adc9daaa5'}</td>\n",
       "      <td>0</td>\n",
       "      <td>2906b810c7d4411798c6938adc9daaa5</td>\n",
       "    </tr>\n",
       "    <tr>\n",
       "      <th>3</th>\n",
       "      <td>8ec6ce2a7e7949b1bf142def7d0e0586</td>\n",
       "      <td>offer received</td>\n",
       "      <td>{'offer id': 'fafdcd668e3743c1bb461111dcafc2a4'}</td>\n",
       "      <td>0</td>\n",
       "      <td>fafdcd668e3743c1bb461111dcafc2a4</td>\n",
       "    </tr>\n",
       "    <tr>\n",
       "      <th>4</th>\n",
       "      <td>68617ca6246f4fbc85e91a2a49552598</td>\n",
       "      <td>offer received</td>\n",
       "      <td>{'offer id': '4d5c57ea9a6940dd891ad53e9dbe8da0'}</td>\n",
       "      <td>0</td>\n",
       "      <td>4d5c57ea9a6940dd891ad53e9dbe8da0</td>\n",
       "    </tr>\n",
       "  </tbody>\n",
       "</table>\n",
       "</div>"
      ],
      "text/plain": [
       "                             person           event  \\\n",
       "0  78afa995795e4d85b5d9ceeca43f5fef  offer received   \n",
       "1  a03223e636434f42ac4c3df47e8bac43  offer received   \n",
       "2  e2127556f4f64592b11af22de27a7932  offer received   \n",
       "3  8ec6ce2a7e7949b1bf142def7d0e0586  offer received   \n",
       "4  68617ca6246f4fbc85e91a2a49552598  offer received   \n",
       "\n",
       "                                              value  time  \\\n",
       "0  {'offer id': '9b98b8c7a33c4b65b9aebfe6a799e6d9'}     0   \n",
       "1  {'offer id': '0b1e1539f2cc45b7b9fa7c272da2e1d7'}     0   \n",
       "2  {'offer id': '2906b810c7d4411798c6938adc9daaa5'}     0   \n",
       "3  {'offer id': 'fafdcd668e3743c1bb461111dcafc2a4'}     0   \n",
       "4  {'offer id': '4d5c57ea9a6940dd891ad53e9dbe8da0'}     0   \n",
       "\n",
       "                           offer_id  \n",
       "0  9b98b8c7a33c4b65b9aebfe6a799e6d9  \n",
       "1  0b1e1539f2cc45b7b9fa7c272da2e1d7  \n",
       "2  2906b810c7d4411798c6938adc9daaa5  \n",
       "3  fafdcd668e3743c1bb461111dcafc2a4  \n",
       "4  4d5c57ea9a6940dd891ad53e9dbe8da0  "
      ]
     },
     "execution_count": 17,
     "metadata": {},
     "output_type": "execute_result"
    }
   ],
   "source": [
    "offer_received = pd.DataFrame(transcript[transcript['event']=='offer received'])\n",
    "unwrapDictionary(offer_received, 'offer id', 'offer_id')\n",
    "offer_received.head()"
   ]
  },
  {
   "cell_type": "code",
   "execution_count": 18,
   "id": "694f7046",
   "metadata": {},
   "outputs": [
    {
     "data": {
      "text/html": [
       "<div>\n",
       "<style scoped>\n",
       "    .dataframe tbody tr th:only-of-type {\n",
       "        vertical-align: middle;\n",
       "    }\n",
       "\n",
       "    .dataframe tbody tr th {\n",
       "        vertical-align: top;\n",
       "    }\n",
       "\n",
       "    .dataframe thead th {\n",
       "        text-align: right;\n",
       "    }\n",
       "</style>\n",
       "<table border=\"1\" class=\"dataframe\">\n",
       "  <thead>\n",
       "    <tr style=\"text-align: right;\">\n",
       "      <th></th>\n",
       "      <th>person</th>\n",
       "      <th>event</th>\n",
       "      <th>value</th>\n",
       "      <th>time</th>\n",
       "      <th>offer_id</th>\n",
       "      <th>time_viewed</th>\n",
       "    </tr>\n",
       "  </thead>\n",
       "  <tbody>\n",
       "    <tr>\n",
       "      <th>12650</th>\n",
       "      <td>389bc3fa690240e798340f5a15918d5c</td>\n",
       "      <td>offer viewed</td>\n",
       "      <td>{'offer id': 'f19421c1d4aa40978ebb69ca19b0e20d'}</td>\n",
       "      <td>0</td>\n",
       "      <td>f19421c1d4aa40978ebb69ca19b0e20d</td>\n",
       "      <td>0</td>\n",
       "    </tr>\n",
       "    <tr>\n",
       "      <th>12651</th>\n",
       "      <td>d1ede868e29245ea91818a903fec04c6</td>\n",
       "      <td>offer viewed</td>\n",
       "      <td>{'offer id': '5a8bc65990b245e5a138643cd4eb9837'}</td>\n",
       "      <td>0</td>\n",
       "      <td>5a8bc65990b245e5a138643cd4eb9837</td>\n",
       "      <td>0</td>\n",
       "    </tr>\n",
       "    <tr>\n",
       "      <th>12652</th>\n",
       "      <td>102e9454054946fda62242d2e176fdce</td>\n",
       "      <td>offer viewed</td>\n",
       "      <td>{'offer id': '4d5c57ea9a6940dd891ad53e9dbe8da0'}</td>\n",
       "      <td>0</td>\n",
       "      <td>4d5c57ea9a6940dd891ad53e9dbe8da0</td>\n",
       "      <td>0</td>\n",
       "    </tr>\n",
       "    <tr>\n",
       "      <th>12653</th>\n",
       "      <td>02c083884c7d45b39cc68e1314fec56c</td>\n",
       "      <td>offer viewed</td>\n",
       "      <td>{'offer id': 'ae264e3637204a6fb9bb56bc8210ddfd'}</td>\n",
       "      <td>0</td>\n",
       "      <td>ae264e3637204a6fb9bb56bc8210ddfd</td>\n",
       "      <td>0</td>\n",
       "    </tr>\n",
       "    <tr>\n",
       "      <th>12655</th>\n",
       "      <td>be8a5d1981a2458d90b255ddc7e0d174</td>\n",
       "      <td>offer viewed</td>\n",
       "      <td>{'offer id': '5a8bc65990b245e5a138643cd4eb9837'}</td>\n",
       "      <td>0</td>\n",
       "      <td>5a8bc65990b245e5a138643cd4eb9837</td>\n",
       "      <td>0</td>\n",
       "    </tr>\n",
       "  </tbody>\n",
       "</table>\n",
       "</div>"
      ],
      "text/plain": [
       "                                 person         event  \\\n",
       "12650  389bc3fa690240e798340f5a15918d5c  offer viewed   \n",
       "12651  d1ede868e29245ea91818a903fec04c6  offer viewed   \n",
       "12652  102e9454054946fda62242d2e176fdce  offer viewed   \n",
       "12653  02c083884c7d45b39cc68e1314fec56c  offer viewed   \n",
       "12655  be8a5d1981a2458d90b255ddc7e0d174  offer viewed   \n",
       "\n",
       "                                                  value  time  \\\n",
       "12650  {'offer id': 'f19421c1d4aa40978ebb69ca19b0e20d'}     0   \n",
       "12651  {'offer id': '5a8bc65990b245e5a138643cd4eb9837'}     0   \n",
       "12652  {'offer id': '4d5c57ea9a6940dd891ad53e9dbe8da0'}     0   \n",
       "12653  {'offer id': 'ae264e3637204a6fb9bb56bc8210ddfd'}     0   \n",
       "12655  {'offer id': '5a8bc65990b245e5a138643cd4eb9837'}     0   \n",
       "\n",
       "                               offer_id  time_viewed  \n",
       "12650  f19421c1d4aa40978ebb69ca19b0e20d            0  \n",
       "12651  5a8bc65990b245e5a138643cd4eb9837            0  \n",
       "12652  4d5c57ea9a6940dd891ad53e9dbe8da0            0  \n",
       "12653  ae264e3637204a6fb9bb56bc8210ddfd            0  \n",
       "12655  5a8bc65990b245e5a138643cd4eb9837            0  "
      ]
     },
     "execution_count": 18,
     "metadata": {},
     "output_type": "execute_result"
    }
   ],
   "source": [
    "offer_viewed = pd.DataFrame(transcript[transcript['event']=='offer viewed'])\n",
    "unwrapDictionary(offer_viewed, 'offer id', 'offer_id')\n",
    "offer_viewed['time_viewed'] = offer_viewed['time']\n",
    "offer_viewed.head()"
   ]
  },
  {
   "cell_type": "code",
   "execution_count": 19,
   "id": "2a0249e0",
   "metadata": {},
   "outputs": [
    {
     "data": {
      "text/html": [
       "<div>\n",
       "<style scoped>\n",
       "    .dataframe tbody tr th:only-of-type {\n",
       "        vertical-align: middle;\n",
       "    }\n",
       "\n",
       "    .dataframe tbody tr th {\n",
       "        vertical-align: top;\n",
       "    }\n",
       "\n",
       "    .dataframe thead th {\n",
       "        text-align: right;\n",
       "    }\n",
       "</style>\n",
       "<table border=\"1\" class=\"dataframe\">\n",
       "  <thead>\n",
       "    <tr style=\"text-align: right;\">\n",
       "      <th></th>\n",
       "      <th>person</th>\n",
       "      <th>event</th>\n",
       "      <th>value</th>\n",
       "      <th>time</th>\n",
       "      <th>offer_id</th>\n",
       "      <th>time_completed</th>\n",
       "    </tr>\n",
       "  </thead>\n",
       "  <tbody>\n",
       "    <tr>\n",
       "      <th>12658</th>\n",
       "      <td>9fa9ae8f57894cc9a3b8a9bbe0fc1b2f</td>\n",
       "      <td>offer completed</td>\n",
       "      <td>{'offer_id': '2906b810c7d4411798c6938adc9daaa5...</td>\n",
       "      <td>0</td>\n",
       "      <td>2906b810c7d4411798c6938adc9daaa5</td>\n",
       "      <td>0</td>\n",
       "    </tr>\n",
       "    <tr>\n",
       "      <th>12672</th>\n",
       "      <td>fe97aa22dd3e48c8b143116a8403dd52</td>\n",
       "      <td>offer completed</td>\n",
       "      <td>{'offer_id': 'fafdcd668e3743c1bb461111dcafc2a4...</td>\n",
       "      <td>0</td>\n",
       "      <td>fafdcd668e3743c1bb461111dcafc2a4</td>\n",
       "      <td>0</td>\n",
       "    </tr>\n",
       "    <tr>\n",
       "      <th>12679</th>\n",
       "      <td>629fc02d56414d91bca360decdfa9288</td>\n",
       "      <td>offer completed</td>\n",
       "      <td>{'offer_id': '9b98b8c7a33c4b65b9aebfe6a799e6d9...</td>\n",
       "      <td>0</td>\n",
       "      <td>9b98b8c7a33c4b65b9aebfe6a799e6d9</td>\n",
       "      <td>0</td>\n",
       "    </tr>\n",
       "    <tr>\n",
       "      <th>12692</th>\n",
       "      <td>676506bad68e4161b9bbaffeb039626b</td>\n",
       "      <td>offer completed</td>\n",
       "      <td>{'offer_id': 'ae264e3637204a6fb9bb56bc8210ddfd...</td>\n",
       "      <td>0</td>\n",
       "      <td>ae264e3637204a6fb9bb56bc8210ddfd</td>\n",
       "      <td>0</td>\n",
       "    </tr>\n",
       "    <tr>\n",
       "      <th>12697</th>\n",
       "      <td>8f7dd3b2afe14c078eb4f6e6fe4ba97d</td>\n",
       "      <td>offer completed</td>\n",
       "      <td>{'offer_id': '4d5c57ea9a6940dd891ad53e9dbe8da0...</td>\n",
       "      <td>0</td>\n",
       "      <td>4d5c57ea9a6940dd891ad53e9dbe8da0</td>\n",
       "      <td>0</td>\n",
       "    </tr>\n",
       "  </tbody>\n",
       "</table>\n",
       "</div>"
      ],
      "text/plain": [
       "                                 person            event  \\\n",
       "12658  9fa9ae8f57894cc9a3b8a9bbe0fc1b2f  offer completed   \n",
       "12672  fe97aa22dd3e48c8b143116a8403dd52  offer completed   \n",
       "12679  629fc02d56414d91bca360decdfa9288  offer completed   \n",
       "12692  676506bad68e4161b9bbaffeb039626b  offer completed   \n",
       "12697  8f7dd3b2afe14c078eb4f6e6fe4ba97d  offer completed   \n",
       "\n",
       "                                                   value  time  \\\n",
       "12658  {'offer_id': '2906b810c7d4411798c6938adc9daaa5...     0   \n",
       "12672  {'offer_id': 'fafdcd668e3743c1bb461111dcafc2a4...     0   \n",
       "12679  {'offer_id': '9b98b8c7a33c4b65b9aebfe6a799e6d9...     0   \n",
       "12692  {'offer_id': 'ae264e3637204a6fb9bb56bc8210ddfd...     0   \n",
       "12697  {'offer_id': '4d5c57ea9a6940dd891ad53e9dbe8da0...     0   \n",
       "\n",
       "                               offer_id  time_completed  \n",
       "12658  2906b810c7d4411798c6938adc9daaa5               0  \n",
       "12672  fafdcd668e3743c1bb461111dcafc2a4               0  \n",
       "12679  9b98b8c7a33c4b65b9aebfe6a799e6d9               0  \n",
       "12692  ae264e3637204a6fb9bb56bc8210ddfd               0  \n",
       "12697  4d5c57ea9a6940dd891ad53e9dbe8da0               0  "
      ]
     },
     "execution_count": 19,
     "metadata": {},
     "output_type": "execute_result"
    }
   ],
   "source": [
    "offer_completed = pd.DataFrame(transcript[transcript['event']=='offer completed'])\n",
    "unwrapDictionary(offer_completed, 'offer_id', 'offer_id')\n",
    "offer_completed['time_completed'] = offer_completed['time']\n",
    "\n",
    "offer_completed.head()"
   ]
  },
  {
   "cell_type": "markdown",
   "id": "09c09428",
   "metadata": {},
   "source": [
    "In the next step I'll merge these three datasets on columns person and offer_id. The idea is to get for each offer for a customer a status whether this offer was just received, viewed or even completed."
   ]
  },
  {
   "cell_type": "markdown",
   "id": "7a4fb450",
   "metadata": {},
   "source": [
    "First initialize an offer data frame with person, offer_id and time from offer_received dataframe. Next set status for all rows to \"Received\", because all of them are offer received events. Than merge the offer_viewed dataframe into the offers dataframe. Substract time_viewed and time to identify already viewed offers, which can be dropped. Also drop duplicates from offers dataset where person, offer_id and time is exactly the same offer.\n",
    "\n",
    "Now, where time_viewed is not nan, we can change the status to \"Viewed\"."
   ]
  },
  {
   "cell_type": "markdown",
   "id": "2b692d7d",
   "metadata": {},
   "source": [
    "I'll do exactly the same with the offer_completed dataset. I'll merge it into the offers dataframe, calculated the duration for time_completed-time to identify the already completed rows, which can be dropped and again also drop duplicates.\n",
    "\n",
    "This time we can change the status to \"Completed\", where time_completed is not nan."
   ]
  },
  {
   "cell_type": "code",
   "execution_count": 20,
   "id": "bb6ea43e",
   "metadata": {},
   "outputs": [],
   "source": [
    "def mergeOfferEvent(offers, offer_df, time_column, status):\n",
    "    '''\n",
    "        Merge given dataframes on person and offer_id. \n",
    "        Depending on the given timeColumn the already received offer will be found and \n",
    "        the status for that entry will be the new given status.\n",
    "        \n",
    "        INPUT:\n",
    "        offers - the main dataframe to merge into\n",
    "        offer_df - the dataframe to merge\n",
    "        time_column - name of the time column in that dataset (must not be \"time\")\n",
    "        status - the new status to set\n",
    "    '''\n",
    "    \n",
    "    offers = offers.merge(offer_df[['person','offer_id',time_column]], on=['person','offer_id'], how='left')\n",
    "\n",
    "    offers['duration'] = offers[time_column] - offers['time']\n",
    "    offers = offers.drop(offers[offers['duration'] < 0].index)\n",
    "    offers = offers.drop_duplicates(subset=['person','offer_id','time'])\n",
    "\n",
    "    offers.loc[offers[time_column].notna(), 'status'] = status\n",
    "\n",
    "    offers = offers.drop(columns=['duration', time_column])\n",
    "    return offers"
   ]
  },
  {
   "cell_type": "code",
   "execution_count": 21,
   "id": "e5f678cc",
   "metadata": {},
   "outputs": [
    {
     "data": {
      "text/html": [
       "<div>\n",
       "<style scoped>\n",
       "    .dataframe tbody tr th:only-of-type {\n",
       "        vertical-align: middle;\n",
       "    }\n",
       "\n",
       "    .dataframe tbody tr th {\n",
       "        vertical-align: top;\n",
       "    }\n",
       "\n",
       "    .dataframe thead th {\n",
       "        text-align: right;\n",
       "    }\n",
       "</style>\n",
       "<table border=\"1\" class=\"dataframe\">\n",
       "  <thead>\n",
       "    <tr style=\"text-align: right;\">\n",
       "      <th></th>\n",
       "      <th>person</th>\n",
       "      <th>offer_id</th>\n",
       "      <th>time</th>\n",
       "      <th>status</th>\n",
       "    </tr>\n",
       "  </thead>\n",
       "  <tbody>\n",
       "    <tr>\n",
       "      <th>0</th>\n",
       "      <td>78afa995795e4d85b5d9ceeca43f5fef</td>\n",
       "      <td>9b98b8c7a33c4b65b9aebfe6a799e6d9</td>\n",
       "      <td>0</td>\n",
       "      <td>Completed</td>\n",
       "    </tr>\n",
       "    <tr>\n",
       "      <th>1</th>\n",
       "      <td>a03223e636434f42ac4c3df47e8bac43</td>\n",
       "      <td>0b1e1539f2cc45b7b9fa7c272da2e1d7</td>\n",
       "      <td>0</td>\n",
       "      <td>Viewed</td>\n",
       "    </tr>\n",
       "    <tr>\n",
       "      <th>2</th>\n",
       "      <td>e2127556f4f64592b11af22de27a7932</td>\n",
       "      <td>2906b810c7d4411798c6938adc9daaa5</td>\n",
       "      <td>0</td>\n",
       "      <td>Viewed</td>\n",
       "    </tr>\n",
       "    <tr>\n",
       "      <th>3</th>\n",
       "      <td>8ec6ce2a7e7949b1bf142def7d0e0586</td>\n",
       "      <td>fafdcd668e3743c1bb461111dcafc2a4</td>\n",
       "      <td>0</td>\n",
       "      <td>Viewed</td>\n",
       "    </tr>\n",
       "    <tr>\n",
       "      <th>4</th>\n",
       "      <td>68617ca6246f4fbc85e91a2a49552598</td>\n",
       "      <td>4d5c57ea9a6940dd891ad53e9dbe8da0</td>\n",
       "      <td>0</td>\n",
       "      <td>Viewed</td>\n",
       "    </tr>\n",
       "  </tbody>\n",
       "</table>\n",
       "</div>"
      ],
      "text/plain": [
       "                             person                          offer_id  time  \\\n",
       "0  78afa995795e4d85b5d9ceeca43f5fef  9b98b8c7a33c4b65b9aebfe6a799e6d9     0   \n",
       "1  a03223e636434f42ac4c3df47e8bac43  0b1e1539f2cc45b7b9fa7c272da2e1d7     0   \n",
       "2  e2127556f4f64592b11af22de27a7932  2906b810c7d4411798c6938adc9daaa5     0   \n",
       "3  8ec6ce2a7e7949b1bf142def7d0e0586  fafdcd668e3743c1bb461111dcafc2a4     0   \n",
       "4  68617ca6246f4fbc85e91a2a49552598  4d5c57ea9a6940dd891ad53e9dbe8da0     0   \n",
       "\n",
       "      status  \n",
       "0  Completed  \n",
       "1     Viewed  \n",
       "2     Viewed  \n",
       "3     Viewed  \n",
       "4     Viewed  "
      ]
     },
     "execution_count": 21,
     "metadata": {},
     "output_type": "execute_result"
    }
   ],
   "source": [
    "offers = pd.DataFrame(offer_received[['person', 'offer_id', 'time']])\n",
    "offers['status'] = \"Received\"\n",
    "\n",
    "\n",
    "offers = mergeOfferEvent(offers, offer_viewed, 'time_viewed', 'Viewed')\n",
    "offers = mergeOfferEvent(offers, offer_completed, 'time_completed', 'Completed')\n",
    "\n",
    "offers.head()"
   ]
  },
  {
   "cell_type": "markdown",
   "id": "8b0ce1a9",
   "metadata": {},
   "source": [
    "A quick view in the offer dataframe shows each offer for a customer has now a status. I also print out two persons with more than one offer received and their final status."
   ]
  },
  {
   "cell_type": "code",
   "execution_count": 22,
   "id": "e8f47fc2",
   "metadata": {},
   "outputs": [
    {
     "data": {
      "text/html": [
       "<div>\n",
       "<style scoped>\n",
       "    .dataframe tbody tr th:only-of-type {\n",
       "        vertical-align: middle;\n",
       "    }\n",
       "\n",
       "    .dataframe tbody tr th {\n",
       "        vertical-align: top;\n",
       "    }\n",
       "\n",
       "    .dataframe thead th {\n",
       "        text-align: right;\n",
       "    }\n",
       "</style>\n",
       "<table border=\"1\" class=\"dataframe\">\n",
       "  <thead>\n",
       "    <tr style=\"text-align: right;\">\n",
       "      <th></th>\n",
       "      <th>person</th>\n",
       "      <th>offer_id</th>\n",
       "      <th>time</th>\n",
       "      <th>status</th>\n",
       "    </tr>\n",
       "  </thead>\n",
       "  <tbody>\n",
       "    <tr>\n",
       "      <th>1</th>\n",
       "      <td>a03223e636434f42ac4c3df47e8bac43</td>\n",
       "      <td>0b1e1539f2cc45b7b9fa7c272da2e1d7</td>\n",
       "      <td>0</td>\n",
       "      <td>Viewed</td>\n",
       "    </tr>\n",
       "    <tr>\n",
       "      <th>28463</th>\n",
       "      <td>a03223e636434f42ac4c3df47e8bac43</td>\n",
       "      <td>3f207df678b143eea3cee63160fa8bed</td>\n",
       "      <td>336</td>\n",
       "      <td>Viewed</td>\n",
       "    </tr>\n",
       "    <tr>\n",
       "      <th>42624</th>\n",
       "      <td>a03223e636434f42ac4c3df47e8bac43</td>\n",
       "      <td>5a8bc65990b245e5a138643cd4eb9837</td>\n",
       "      <td>408</td>\n",
       "      <td>Received</td>\n",
       "    </tr>\n",
       "    <tr>\n",
       "      <th>56771</th>\n",
       "      <td>a03223e636434f42ac4c3df47e8bac43</td>\n",
       "      <td>0b1e1539f2cc45b7b9fa7c272da2e1d7</td>\n",
       "      <td>504</td>\n",
       "      <td>Viewed</td>\n",
       "    </tr>\n",
       "    <tr>\n",
       "      <th>70640</th>\n",
       "      <td>a03223e636434f42ac4c3df47e8bac43</td>\n",
       "      <td>0b1e1539f2cc45b7b9fa7c272da2e1d7</td>\n",
       "      <td>576</td>\n",
       "      <td>Viewed</td>\n",
       "    </tr>\n",
       "  </tbody>\n",
       "</table>\n",
       "</div>"
      ],
      "text/plain": [
       "                                 person                          offer_id  \\\n",
       "1      a03223e636434f42ac4c3df47e8bac43  0b1e1539f2cc45b7b9fa7c272da2e1d7   \n",
       "28463  a03223e636434f42ac4c3df47e8bac43  3f207df678b143eea3cee63160fa8bed   \n",
       "42624  a03223e636434f42ac4c3df47e8bac43  5a8bc65990b245e5a138643cd4eb9837   \n",
       "56771  a03223e636434f42ac4c3df47e8bac43  0b1e1539f2cc45b7b9fa7c272da2e1d7   \n",
       "70640  a03223e636434f42ac4c3df47e8bac43  0b1e1539f2cc45b7b9fa7c272da2e1d7   \n",
       "\n",
       "       time    status  \n",
       "1         0    Viewed  \n",
       "28463   336    Viewed  \n",
       "42624   408  Received  \n",
       "56771   504    Viewed  \n",
       "70640   576    Viewed  "
      ]
     },
     "execution_count": 22,
     "metadata": {},
     "output_type": "execute_result"
    }
   ],
   "source": [
    "offers[offers['person']=='a03223e636434f42ac4c3df47e8bac43']\n"
   ]
  },
  {
   "cell_type": "code",
   "execution_count": 23,
   "id": "9d8e3f4f",
   "metadata": {},
   "outputs": [
    {
     "data": {
      "text/html": [
       "<div>\n",
       "<style scoped>\n",
       "    .dataframe tbody tr th:only-of-type {\n",
       "        vertical-align: middle;\n",
       "    }\n",
       "\n",
       "    .dataframe tbody tr th {\n",
       "        vertical-align: top;\n",
       "    }\n",
       "\n",
       "    .dataframe thead th {\n",
       "        text-align: right;\n",
       "    }\n",
       "</style>\n",
       "<table border=\"1\" class=\"dataframe\">\n",
       "  <thead>\n",
       "    <tr style=\"text-align: right;\">\n",
       "      <th></th>\n",
       "      <th>person</th>\n",
       "      <th>offer_id</th>\n",
       "      <th>time</th>\n",
       "      <th>status</th>\n",
       "    </tr>\n",
       "  </thead>\n",
       "  <tbody>\n",
       "    <tr>\n",
       "      <th>51</th>\n",
       "      <td>2e87ba0fba1a4d1a8614af771f07a94d</td>\n",
       "      <td>2298d6c36e964ae4a3e7e9706d1fb8c2</td>\n",
       "      <td>0</td>\n",
       "      <td>Completed</td>\n",
       "    </tr>\n",
       "    <tr>\n",
       "      <th>14311</th>\n",
       "      <td>2e87ba0fba1a4d1a8614af771f07a94d</td>\n",
       "      <td>2298d6c36e964ae4a3e7e9706d1fb8c2</td>\n",
       "      <td>168</td>\n",
       "      <td>Completed</td>\n",
       "    </tr>\n",
       "    <tr>\n",
       "      <th>28512</th>\n",
       "      <td>2e87ba0fba1a4d1a8614af771f07a94d</td>\n",
       "      <td>fafdcd668e3743c1bb461111dcafc2a4</td>\n",
       "      <td>336</td>\n",
       "      <td>Completed</td>\n",
       "    </tr>\n",
       "    <tr>\n",
       "      <th>42675</th>\n",
       "      <td>2e87ba0fba1a4d1a8614af771f07a94d</td>\n",
       "      <td>f19421c1d4aa40978ebb69ca19b0e20d</td>\n",
       "      <td>408</td>\n",
       "      <td>Completed</td>\n",
       "    </tr>\n",
       "    <tr>\n",
       "      <th>56814</th>\n",
       "      <td>2e87ba0fba1a4d1a8614af771f07a94d</td>\n",
       "      <td>5a8bc65990b245e5a138643cd4eb9837</td>\n",
       "      <td>504</td>\n",
       "      <td>Viewed</td>\n",
       "    </tr>\n",
       "  </tbody>\n",
       "</table>\n",
       "</div>"
      ],
      "text/plain": [
       "                                 person                          offer_id  \\\n",
       "51     2e87ba0fba1a4d1a8614af771f07a94d  2298d6c36e964ae4a3e7e9706d1fb8c2   \n",
       "14311  2e87ba0fba1a4d1a8614af771f07a94d  2298d6c36e964ae4a3e7e9706d1fb8c2   \n",
       "28512  2e87ba0fba1a4d1a8614af771f07a94d  fafdcd668e3743c1bb461111dcafc2a4   \n",
       "42675  2e87ba0fba1a4d1a8614af771f07a94d  f19421c1d4aa40978ebb69ca19b0e20d   \n",
       "56814  2e87ba0fba1a4d1a8614af771f07a94d  5a8bc65990b245e5a138643cd4eb9837   \n",
       "\n",
       "       time     status  \n",
       "51        0  Completed  \n",
       "14311   168  Completed  \n",
       "28512   336  Completed  \n",
       "42675   408  Completed  \n",
       "56814   504     Viewed  "
      ]
     },
     "execution_count": 23,
     "metadata": {},
     "output_type": "execute_result"
    }
   ],
   "source": [
    "offers[offers['person']=='2e87ba0fba1a4d1a8614af771f07a94d']\n"
   ]
  },
  {
   "cell_type": "code",
   "execution_count": 24,
   "id": "33ac7e24",
   "metadata": {},
   "outputs": [
    {
     "name": "stdout",
     "output_type": "stream",
     "text": [
      "Number of offer_received 76277\n",
      "Number of offers with status 74044\n",
      "Number of missing offers 2233\n"
     ]
    }
   ],
   "source": [
    "print('Number of offer_received', offer_received.shape[0])\n",
    "print('Number of offers with status', offers.shape[0])\n",
    "print('Number of missing offers', offer_received.shape[0]-offers.shape[0])\n"
   ]
  },
  {
   "cell_type": "markdown",
   "id": "61a770a1",
   "metadata": {},
   "source": [
    "We are missing 2233 offers. Whats happen with them? Well these are the last offers that are just received by customers that have at least another offer which was at least viewed **before** the last offer was received. Since these are offers without any interaction from the customer, I can ignore them.\n",
    "\n",
    "In the next step I'll merge the profile dataframe into this offers dataframe in order to replace the person ids with there values, like gender, age, become_member_on and income."
   ]
  },
  {
   "cell_type": "code",
   "execution_count": 25,
   "id": "299a0ae5",
   "metadata": {},
   "outputs": [],
   "source": [
    "offers = offers.merge(profile, left_on='person', right_on='id', how='left')"
   ]
  },
  {
   "cell_type": "code",
   "execution_count": 26,
   "id": "f7ef0cb9",
   "metadata": {},
   "outputs": [
    {
     "data": {
      "text/html": [
       "<div>\n",
       "<style scoped>\n",
       "    .dataframe tbody tr th:only-of-type {\n",
       "        vertical-align: middle;\n",
       "    }\n",
       "\n",
       "    .dataframe tbody tr th {\n",
       "        vertical-align: top;\n",
       "    }\n",
       "\n",
       "    .dataframe thead th {\n",
       "        text-align: right;\n",
       "    }\n",
       "</style>\n",
       "<table border=\"1\" class=\"dataframe\">\n",
       "  <thead>\n",
       "    <tr style=\"text-align: right;\">\n",
       "      <th></th>\n",
       "      <th>person</th>\n",
       "      <th>offer_id</th>\n",
       "      <th>time</th>\n",
       "      <th>status</th>\n",
       "      <th>gender</th>\n",
       "      <th>age</th>\n",
       "      <th>id</th>\n",
       "      <th>became_member_on</th>\n",
       "      <th>income</th>\n",
       "    </tr>\n",
       "  </thead>\n",
       "  <tbody>\n",
       "    <tr>\n",
       "      <th>0</th>\n",
       "      <td>78afa995795e4d85b5d9ceeca43f5fef</td>\n",
       "      <td>9b98b8c7a33c4b65b9aebfe6a799e6d9</td>\n",
       "      <td>0</td>\n",
       "      <td>Completed</td>\n",
       "      <td>F</td>\n",
       "      <td>75</td>\n",
       "      <td>78afa995795e4d85b5d9ceeca43f5fef</td>\n",
       "      <td>20170509</td>\n",
       "      <td>100000.0</td>\n",
       "    </tr>\n",
       "    <tr>\n",
       "      <th>1</th>\n",
       "      <td>a03223e636434f42ac4c3df47e8bac43</td>\n",
       "      <td>0b1e1539f2cc45b7b9fa7c272da2e1d7</td>\n",
       "      <td>0</td>\n",
       "      <td>Viewed</td>\n",
       "      <td>None</td>\n",
       "      <td>118</td>\n",
       "      <td>a03223e636434f42ac4c3df47e8bac43</td>\n",
       "      <td>20170804</td>\n",
       "      <td>NaN</td>\n",
       "    </tr>\n",
       "    <tr>\n",
       "      <th>2</th>\n",
       "      <td>e2127556f4f64592b11af22de27a7932</td>\n",
       "      <td>2906b810c7d4411798c6938adc9daaa5</td>\n",
       "      <td>0</td>\n",
       "      <td>Viewed</td>\n",
       "      <td>M</td>\n",
       "      <td>68</td>\n",
       "      <td>e2127556f4f64592b11af22de27a7932</td>\n",
       "      <td>20180426</td>\n",
       "      <td>70000.0</td>\n",
       "    </tr>\n",
       "    <tr>\n",
       "      <th>3</th>\n",
       "      <td>8ec6ce2a7e7949b1bf142def7d0e0586</td>\n",
       "      <td>fafdcd668e3743c1bb461111dcafc2a4</td>\n",
       "      <td>0</td>\n",
       "      <td>Viewed</td>\n",
       "      <td>None</td>\n",
       "      <td>118</td>\n",
       "      <td>8ec6ce2a7e7949b1bf142def7d0e0586</td>\n",
       "      <td>20170925</td>\n",
       "      <td>NaN</td>\n",
       "    </tr>\n",
       "    <tr>\n",
       "      <th>4</th>\n",
       "      <td>68617ca6246f4fbc85e91a2a49552598</td>\n",
       "      <td>4d5c57ea9a6940dd891ad53e9dbe8da0</td>\n",
       "      <td>0</td>\n",
       "      <td>Viewed</td>\n",
       "      <td>None</td>\n",
       "      <td>118</td>\n",
       "      <td>68617ca6246f4fbc85e91a2a49552598</td>\n",
       "      <td>20171002</td>\n",
       "      <td>NaN</td>\n",
       "    </tr>\n",
       "  </tbody>\n",
       "</table>\n",
       "</div>"
      ],
      "text/plain": [
       "                             person                          offer_id  time  \\\n",
       "0  78afa995795e4d85b5d9ceeca43f5fef  9b98b8c7a33c4b65b9aebfe6a799e6d9     0   \n",
       "1  a03223e636434f42ac4c3df47e8bac43  0b1e1539f2cc45b7b9fa7c272da2e1d7     0   \n",
       "2  e2127556f4f64592b11af22de27a7932  2906b810c7d4411798c6938adc9daaa5     0   \n",
       "3  8ec6ce2a7e7949b1bf142def7d0e0586  fafdcd668e3743c1bb461111dcafc2a4     0   \n",
       "4  68617ca6246f4fbc85e91a2a49552598  4d5c57ea9a6940dd891ad53e9dbe8da0     0   \n",
       "\n",
       "      status gender  age                                id  became_member_on  \\\n",
       "0  Completed      F   75  78afa995795e4d85b5d9ceeca43f5fef          20170509   \n",
       "1     Viewed   None  118  a03223e636434f42ac4c3df47e8bac43          20170804   \n",
       "2     Viewed      M   68  e2127556f4f64592b11af22de27a7932          20180426   \n",
       "3     Viewed   None  118  8ec6ce2a7e7949b1bf142def7d0e0586          20170925   \n",
       "4     Viewed   None  118  68617ca6246f4fbc85e91a2a49552598          20171002   \n",
       "\n",
       "     income  \n",
       "0  100000.0  \n",
       "1       NaN  \n",
       "2   70000.0  \n",
       "3       NaN  \n",
       "4       NaN  "
      ]
     },
     "execution_count": 26,
     "metadata": {},
     "output_type": "execute_result"
    }
   ],
   "source": [
    "offers.head()"
   ]
  },
  {
   "cell_type": "markdown",
   "id": "a172a59c",
   "metadata": {},
   "source": [
    "In the final step of this data preprocessing I'll rearrange the columns, drop person id columns and also drop the rows with missing values, since these are exactly the persons with missing data identified earlier.\n",
    "\n"
   ]
  },
  {
   "cell_type": "code",
   "execution_count": 27,
   "id": "bbcb27bb",
   "metadata": {},
   "outputs": [],
   "source": [
    "offers = offers[['offer_id','time','gender','age','became_member_on','income','status']]\n",
    "offers = offers.dropna()\n",
    "\n",
    "offers = pd.get_dummies(offers, columns=['offer_id', 'gender'])"
   ]
  },
  {
   "cell_type": "code",
   "execution_count": 28,
   "id": "f48cec65",
   "metadata": {},
   "outputs": [
    {
     "data": {
      "text/html": [
       "<div>\n",
       "<style scoped>\n",
       "    .dataframe tbody tr th:only-of-type {\n",
       "        vertical-align: middle;\n",
       "    }\n",
       "\n",
       "    .dataframe tbody tr th {\n",
       "        vertical-align: top;\n",
       "    }\n",
       "\n",
       "    .dataframe thead th {\n",
       "        text-align: right;\n",
       "    }\n",
       "</style>\n",
       "<table border=\"1\" class=\"dataframe\">\n",
       "  <thead>\n",
       "    <tr style=\"text-align: right;\">\n",
       "      <th></th>\n",
       "      <th>time</th>\n",
       "      <th>age</th>\n",
       "      <th>became_member_on</th>\n",
       "      <th>income</th>\n",
       "      <th>status</th>\n",
       "      <th>offer_id_0b1e1539f2cc45b7b9fa7c272da2e1d7</th>\n",
       "      <th>offer_id_2298d6c36e964ae4a3e7e9706d1fb8c2</th>\n",
       "      <th>offer_id_2906b810c7d4411798c6938adc9daaa5</th>\n",
       "      <th>offer_id_3f207df678b143eea3cee63160fa8bed</th>\n",
       "      <th>offer_id_4d5c57ea9a6940dd891ad53e9dbe8da0</th>\n",
       "      <th>offer_id_5a8bc65990b245e5a138643cd4eb9837</th>\n",
       "      <th>offer_id_9b98b8c7a33c4b65b9aebfe6a799e6d9</th>\n",
       "      <th>offer_id_ae264e3637204a6fb9bb56bc8210ddfd</th>\n",
       "      <th>offer_id_f19421c1d4aa40978ebb69ca19b0e20d</th>\n",
       "      <th>offer_id_fafdcd668e3743c1bb461111dcafc2a4</th>\n",
       "      <th>gender_F</th>\n",
       "      <th>gender_M</th>\n",
       "      <th>gender_O</th>\n",
       "    </tr>\n",
       "  </thead>\n",
       "  <tbody>\n",
       "    <tr>\n",
       "      <th>0</th>\n",
       "      <td>0</td>\n",
       "      <td>75</td>\n",
       "      <td>20170509</td>\n",
       "      <td>100000.0</td>\n",
       "      <td>Completed</td>\n",
       "      <td>0</td>\n",
       "      <td>0</td>\n",
       "      <td>0</td>\n",
       "      <td>0</td>\n",
       "      <td>0</td>\n",
       "      <td>0</td>\n",
       "      <td>1</td>\n",
       "      <td>0</td>\n",
       "      <td>0</td>\n",
       "      <td>0</td>\n",
       "      <td>1</td>\n",
       "      <td>0</td>\n",
       "      <td>0</td>\n",
       "    </tr>\n",
       "    <tr>\n",
       "      <th>2</th>\n",
       "      <td>0</td>\n",
       "      <td>68</td>\n",
       "      <td>20180426</td>\n",
       "      <td>70000.0</td>\n",
       "      <td>Viewed</td>\n",
       "      <td>0</td>\n",
       "      <td>0</td>\n",
       "      <td>1</td>\n",
       "      <td>0</td>\n",
       "      <td>0</td>\n",
       "      <td>0</td>\n",
       "      <td>0</td>\n",
       "      <td>0</td>\n",
       "      <td>0</td>\n",
       "      <td>0</td>\n",
       "      <td>0</td>\n",
       "      <td>1</td>\n",
       "      <td>0</td>\n",
       "    </tr>\n",
       "    <tr>\n",
       "      <th>5</th>\n",
       "      <td>0</td>\n",
       "      <td>65</td>\n",
       "      <td>20180209</td>\n",
       "      <td>53000.0</td>\n",
       "      <td>Completed</td>\n",
       "      <td>0</td>\n",
       "      <td>0</td>\n",
       "      <td>0</td>\n",
       "      <td>0</td>\n",
       "      <td>0</td>\n",
       "      <td>0</td>\n",
       "      <td>0</td>\n",
       "      <td>0</td>\n",
       "      <td>1</td>\n",
       "      <td>0</td>\n",
       "      <td>0</td>\n",
       "      <td>1</td>\n",
       "      <td>0</td>\n",
       "    </tr>\n",
       "    <tr>\n",
       "      <th>7</th>\n",
       "      <td>0</td>\n",
       "      <td>58</td>\n",
       "      <td>20171111</td>\n",
       "      <td>51000.0</td>\n",
       "      <td>Received</td>\n",
       "      <td>0</td>\n",
       "      <td>0</td>\n",
       "      <td>0</td>\n",
       "      <td>1</td>\n",
       "      <td>0</td>\n",
       "      <td>0</td>\n",
       "      <td>0</td>\n",
       "      <td>0</td>\n",
       "      <td>0</td>\n",
       "      <td>0</td>\n",
       "      <td>0</td>\n",
       "      <td>1</td>\n",
       "      <td>0</td>\n",
       "    </tr>\n",
       "    <tr>\n",
       "      <th>8</th>\n",
       "      <td>0</td>\n",
       "      <td>61</td>\n",
       "      <td>20170911</td>\n",
       "      <td>57000.0</td>\n",
       "      <td>Viewed</td>\n",
       "      <td>1</td>\n",
       "      <td>0</td>\n",
       "      <td>0</td>\n",
       "      <td>0</td>\n",
       "      <td>0</td>\n",
       "      <td>0</td>\n",
       "      <td>0</td>\n",
       "      <td>0</td>\n",
       "      <td>0</td>\n",
       "      <td>0</td>\n",
       "      <td>1</td>\n",
       "      <td>0</td>\n",
       "      <td>0</td>\n",
       "    </tr>\n",
       "  </tbody>\n",
       "</table>\n",
       "</div>"
      ],
      "text/plain": [
       "   time  age  became_member_on    income     status  \\\n",
       "0     0   75          20170509  100000.0  Completed   \n",
       "2     0   68          20180426   70000.0     Viewed   \n",
       "5     0   65          20180209   53000.0  Completed   \n",
       "7     0   58          20171111   51000.0   Received   \n",
       "8     0   61          20170911   57000.0     Viewed   \n",
       "\n",
       "   offer_id_0b1e1539f2cc45b7b9fa7c272da2e1d7  \\\n",
       "0                                          0   \n",
       "2                                          0   \n",
       "5                                          0   \n",
       "7                                          0   \n",
       "8                                          1   \n",
       "\n",
       "   offer_id_2298d6c36e964ae4a3e7e9706d1fb8c2  \\\n",
       "0                                          0   \n",
       "2                                          0   \n",
       "5                                          0   \n",
       "7                                          0   \n",
       "8                                          0   \n",
       "\n",
       "   offer_id_2906b810c7d4411798c6938adc9daaa5  \\\n",
       "0                                          0   \n",
       "2                                          1   \n",
       "5                                          0   \n",
       "7                                          0   \n",
       "8                                          0   \n",
       "\n",
       "   offer_id_3f207df678b143eea3cee63160fa8bed  \\\n",
       "0                                          0   \n",
       "2                                          0   \n",
       "5                                          0   \n",
       "7                                          1   \n",
       "8                                          0   \n",
       "\n",
       "   offer_id_4d5c57ea9a6940dd891ad53e9dbe8da0  \\\n",
       "0                                          0   \n",
       "2                                          0   \n",
       "5                                          0   \n",
       "7                                          0   \n",
       "8                                          0   \n",
       "\n",
       "   offer_id_5a8bc65990b245e5a138643cd4eb9837  \\\n",
       "0                                          0   \n",
       "2                                          0   \n",
       "5                                          0   \n",
       "7                                          0   \n",
       "8                                          0   \n",
       "\n",
       "   offer_id_9b98b8c7a33c4b65b9aebfe6a799e6d9  \\\n",
       "0                                          1   \n",
       "2                                          0   \n",
       "5                                          0   \n",
       "7                                          0   \n",
       "8                                          0   \n",
       "\n",
       "   offer_id_ae264e3637204a6fb9bb56bc8210ddfd  \\\n",
       "0                                          0   \n",
       "2                                          0   \n",
       "5                                          0   \n",
       "7                                          0   \n",
       "8                                          0   \n",
       "\n",
       "   offer_id_f19421c1d4aa40978ebb69ca19b0e20d  \\\n",
       "0                                          0   \n",
       "2                                          0   \n",
       "5                                          1   \n",
       "7                                          0   \n",
       "8                                          0   \n",
       "\n",
       "   offer_id_fafdcd668e3743c1bb461111dcafc2a4  gender_F  gender_M  gender_O  \n",
       "0                                          0         1         0         0  \n",
       "2                                          0         0         1         0  \n",
       "5                                          0         0         1         0  \n",
       "7                                          0         0         1         0  \n",
       "8                                          0         1         0         0  "
      ]
     },
     "execution_count": 28,
     "metadata": {},
     "output_type": "execute_result"
    }
   ],
   "source": [
    "offers.head()"
   ]
  },
  {
   "cell_type": "markdown",
   "id": "f6e2e9a7",
   "metadata": {},
   "source": [
    "## Model Evaluation\n",
    "\n",
    "In this step I'll use the final offers dataset to build a model. We have a classification problem here, so I'll try some classifiers and check which one performes better. I'll use two metrics accuracy and f1-score."
   ]
  },
  {
   "cell_type": "code",
   "execution_count": 29,
   "id": "5e7d3e6a",
   "metadata": {},
   "outputs": [],
   "source": [
    "# Import cell for the model evaluation\n",
    "from sklearn.model_selection import train_test_split\n",
    "from sklearn.ensemble import RandomForestClassifier\n",
    "from sklearn.ensemble import AdaBoostClassifier\n",
    "from sklearn.ensemble import GradientBoostingClassifier\n",
    "from sklearn.model_selection import GridSearchCV\n",
    "from sklearn.metrics import accuracy_score, f1_score"
   ]
  },
  {
   "cell_type": "markdown",
   "id": "4407a019",
   "metadata": {},
   "source": [
    "First thing to do is to split the data into train and test sets. I'll split the data at 70% for train and 30% for test."
   ]
  },
  {
   "cell_type": "code",
   "execution_count": 30,
   "id": "9f5a7b8b",
   "metadata": {},
   "outputs": [
    {
     "name": "stdout",
     "output_type": "stream",
     "text": [
      "Shape of train data (45162, 17)\n",
      "Shape of test data (19356, 17)\n"
     ]
    }
   ],
   "source": [
    "X = offers.drop(columns=['status'])\n",
    "y = offers['status']\n",
    "\n",
    "X_train, X_test, y_train, y_test = train_test_split(X, y, test_size=0.3, random_state=42)\n",
    "\n",
    "print('Shape of train data', X_train.shape)\n",
    "print('Shape of test data', X_test.shape)"
   ]
  },
  {
   "cell_type": "markdown",
   "id": "889212a0",
   "metadata": {},
   "source": [
    "#### Choosing the models\n",
    "\n",
    "I decided to try the three classifiers from sklearn \n",
    "- [RandomForest](https://scikit-learn.org/stable/modules/generated/sklearn.ensemble.RandomForestClassifier.html#sklearn.ensemble.RandomForestClassifier)\n",
    "- [AdaBoost](https://scikit-learn.org/stable/modules/generated/sklearn.ensemble.AdaBoostClassifier.html#sklearn.ensemble.AdaBoostClassifier)\n",
    "- [GradientBoost](https://scikit-learn.org/stable/modules/generated/sklearn.ensemble.GradientBoostingClassifier.html#sklearn.ensemble.GradientBoostingClassifier)\n",
    "\n",
    "I'll use each model with default params and print out accuracy and f1-score for each."
   ]
  },
  {
   "cell_type": "code",
   "execution_count": 31,
   "id": "d0455d2b",
   "metadata": {},
   "outputs": [
    {
     "name": "stdout",
     "output_type": "stream",
     "text": [
      "accuracy_score 0.7294895639594957\n",
      "f1_score       0.722865242873694\n"
     ]
    }
   ],
   "source": [
    "randomForest = RandomForestClassifier(random_state=42)\n",
    "randomForest.fit(X_train, y_train)\n",
    "\n",
    "pred_randomForest = randomForest.predict(X_test)\n",
    "print('accuracy_score', accuracy_score(y_test, pred_randomForest))\n",
    "print('f1_score      ', f1_score(y_test, pred_randomForest, average='weighted'))\n"
   ]
  },
  {
   "cell_type": "code",
   "execution_count": 32,
   "id": "e0770856",
   "metadata": {},
   "outputs": [
    {
     "name": "stdout",
     "output_type": "stream",
     "text": [
      "accuracy_score 0.7062409588758007\n",
      "f1_score       0.6860253332445191\n"
     ]
    }
   ],
   "source": [
    "adaBoost = AdaBoostClassifier(random_state=42)\n",
    "adaBoost.fit(X_train, y_train)\n",
    "\n",
    "pred_adaBoost = adaBoost.predict(X_test)\n",
    "print('accuracy_score', accuracy_score(y_test, pred_adaBoost))\n",
    "print('f1_score      ', f1_score(y_test, pred_adaBoost, average='weighted'))\n"
   ]
  },
  {
   "cell_type": "code",
   "execution_count": 33,
   "id": "0b7c80e6",
   "metadata": {},
   "outputs": [
    {
     "name": "stdout",
     "output_type": "stream",
     "text": [
      "accuracy_score 0.7316594337673072\n",
      "f1_score       0.7213527181967062\n"
     ]
    }
   ],
   "source": [
    "gradientBoost = GradientBoostingClassifier(random_state=42)\n",
    "gradientBoost.fit(X_train, y_train)\n",
    "\n",
    "pred_gradientBoost = gradientBoost.predict(X_test)\n",
    "print('accuracy_score', accuracy_score(y_test, pred_gradientBoost))\n",
    "print('f1_score      ', f1_score(y_test, pred_gradientBoost, average='weighted'))\n"
   ]
  },
  {
   "cell_type": "markdown",
   "id": "c803174a",
   "metadata": {},
   "source": [
    "It looks like GradientBoost performs very well. Next I'll check for over and underfitting."
   ]
  },
  {
   "cell_type": "code",
   "execution_count": 34,
   "id": "0b446c9c",
   "metadata": {},
   "outputs": [],
   "source": [
    "from sklearn.model_selection import learning_curve\n",
    "\n",
    "def draw_learning_curves(X, y, estimator, num_trainings):\n",
    "    '''\n",
    "    Draws a diagram for the training score and the cross validatioin score using learning_curve from sklearn\n",
    "        \n",
    "    INPUT:\n",
    "    X - dataframe of the training data set\n",
    "    y - true labels for X\n",
    "    estimator - the estimator model \n",
    "    num_trainings - number of trainings\n",
    "    '''\n",
    "    train_sizes, train_scores, test_scores = learning_curve(\n",
    "        estimator, X, y, cv=None, n_jobs=1, train_sizes=np.linspace(.1, 1.0, num_trainings))\n",
    "\n",
    "    train_scores_mean = np.mean(train_scores, axis=1)\n",
    "    train_scores_std = np.std(train_scores, axis=1)\n",
    "    test_scores_mean = np.mean(test_scores, axis=1)\n",
    "    test_scores_std = np.std(test_scores, axis=1)\n",
    "\n",
    "    plt.grid()\n",
    "\n",
    "    plt.title(\"Learning Curves\")\n",
    "    plt.xlabel(\"Training examples\")\n",
    "    plt.ylabel(\"Score\")\n",
    "\n",
    "    plt.plot(train_scores_mean, 'o-', color=\"g\",\n",
    "             label=\"Training score\")\n",
    "    plt.plot(test_scores_mean, 'o-', color=\"y\",\n",
    "             label=\"Cross-validation score\")\n",
    "\n",
    "\n",
    "    plt.legend(loc=\"best\")\n",
    "\n",
    "    plt.show()"
   ]
  },
  {
   "cell_type": "code",
   "execution_count": 35,
   "id": "4948b505",
   "metadata": {},
   "outputs": [
    {
     "data": {
      "image/png": "[encoded data removed]",
      "text/plain": [
       "<Figure size 432x288 with 1 Axes>"
      ]
     },
     "metadata": {},
     "output_type": "display_data"
    }
   ],
   "source": [
    "draw_learning_curves(X_train, y_train, RandomForestClassifier(random_state=42), 10)"
   ]
  },
  {
   "cell_type": "code",
   "execution_count": 36,
   "id": "45014e0e",
   "metadata": {},
   "outputs": [
    {
     "data": {
      "image/png": "[encoded data removed]",
      "text/plain": [
       "<Figure size 432x288 with 1 Axes>"
      ]
     },
     "metadata": {},
     "output_type": "display_data"
    }
   ],
   "source": [
    "draw_learning_curves(X_train, y_train, AdaBoostClassifier(random_state=42), 10)"
   ]
  },
  {
   "cell_type": "code",
   "execution_count": 37,
   "id": "eb607763",
   "metadata": {},
   "outputs": [
    {
     "data": {
      "image/png": "[encoded data removed]",
      "text/plain": [
       "<Figure size 432x288 with 1 Axes>"
      ]
     },
     "metadata": {},
     "output_type": "display_data"
    }
   ],
   "source": [
    "draw_learning_curves(X_train, y_train, GradientBoostingClassifier(), 10)"
   ]
  },
  {
   "cell_type": "markdown",
   "id": "84db528a",
   "metadata": {},
   "source": [
    "RandomForest seems to overfit, since there train score is very high and the cross-validation score does not increase so much. AdaBoost and GradientBoost seems to work very well, but GradientBoost has a slightly higher score so I'll choose gradientBoost as the classifier for building my model."
   ]
  },
  {
   "cell_type": "code",
   "execution_count": 38,
   "id": "bcc4979d",
   "metadata": {},
   "outputs": [
    {
     "data": {
      "text/plain": [
       "{'ccp_alpha': 0.0,\n",
       " 'criterion': 'friedman_mse',\n",
       " 'init': None,\n",
       " 'learning_rate': 0.1,\n",
       " 'loss': 'deviance',\n",
       " 'max_depth': 3,\n",
       " 'max_features': None,\n",
       " 'max_leaf_nodes': None,\n",
       " 'min_impurity_decrease': 0.0,\n",
       " 'min_samples_leaf': 1,\n",
       " 'min_samples_split': 2,\n",
       " 'min_weight_fraction_leaf': 0.0,\n",
       " 'n_estimators': 100,\n",
       " 'n_iter_no_change': None,\n",
       " 'random_state': 42,\n",
       " 'subsample': 1.0,\n",
       " 'tol': 0.0001,\n",
       " 'validation_fraction': 0.1,\n",
       " 'verbose': 0,\n",
       " 'warm_start': False}"
      ]
     },
     "execution_count": 38,
     "metadata": {},
     "output_type": "execute_result"
    }
   ],
   "source": [
    "gradientBoost.get_params()"
   ]
  },
  {
   "cell_type": "code",
   "execution_count": 39,
   "id": "a1cc83f4",
   "metadata": {},
   "outputs": [
    {
     "name": "stdout",
     "output_type": "stream",
     "text": [
      "Fitting 5 folds for each of 6 candidates, totalling 30 fits\n",
      "[CV 1/5] END ......max_depth=3, n_estimators=50;, score=0.713 total time=   5.6s\n",
      "[CV 2/5] END ......max_depth=3, n_estimators=50;, score=0.715 total time=  10.1s\n",
      "[CV 3/5] END ......max_depth=3, n_estimators=50;, score=0.705 total time=   5.6s\n",
      "[CV 4/5] END ......max_depth=3, n_estimators=50;, score=0.720 total time=   5.5s\n",
      "[CV 5/5] END ......max_depth=3, n_estimators=50;, score=0.708 total time=   5.3s\n",
      "[CV 1/5] END .....max_depth=3, n_estimators=100;, score=0.721 total time=  10.7s\n",
      "[CV 2/5] END .....max_depth=3, n_estimators=100;, score=0.721 total time=   9.8s\n",
      "[CV 3/5] END .....max_depth=3, n_estimators=100;, score=0.711 total time=   9.9s\n",
      "[CV 4/5] END .....max_depth=3, n_estimators=100;, score=0.724 total time=  10.6s\n",
      "[CV 5/5] END .....max_depth=3, n_estimators=100;, score=0.715 total time=   9.8s\n",
      "[CV 1/5] END ......max_depth=4, n_estimators=50;, score=0.720 total time=   6.4s\n",
      "[CV 2/5] END ......max_depth=4, n_estimators=50;, score=0.720 total time=   6.1s\n",
      "[CV 3/5] END ......max_depth=4, n_estimators=50;, score=0.710 total time=   6.3s\n",
      "[CV 4/5] END ......max_depth=4, n_estimators=50;, score=0.724 total time=   7.0s\n",
      "[CV 5/5] END ......max_depth=4, n_estimators=50;, score=0.713 total time=   6.6s\n",
      "[CV 1/5] END .....max_depth=4, n_estimators=100;, score=0.722 total time=  13.0s\n",
      "[CV 2/5] END .....max_depth=4, n_estimators=100;, score=0.722 total time=  12.6s\n",
      "[CV 3/5] END .....max_depth=4, n_estimators=100;, score=0.716 total time=  12.2s\n",
      "[CV 4/5] END .....max_depth=4, n_estimators=100;, score=0.726 total time=  12.2s\n",
      "[CV 5/5] END .....max_depth=4, n_estimators=100;, score=0.717 total time=  12.4s\n",
      "[CV 1/5] END ......max_depth=5, n_estimators=50;, score=0.722 total time=   7.4s\n",
      "[CV 2/5] END ......max_depth=5, n_estimators=50;, score=0.722 total time=   7.4s\n",
      "[CV 3/5] END ......max_depth=5, n_estimators=50;, score=0.715 total time=   7.5s\n",
      "[CV 4/5] END ......max_depth=5, n_estimators=50;, score=0.724 total time=   7.3s\n",
      "[CV 5/5] END ......max_depth=5, n_estimators=50;, score=0.716 total time=   7.4s\n",
      "[CV 1/5] END .....max_depth=5, n_estimators=100;, score=0.725 total time=  16.1s\n",
      "[CV 2/5] END .....max_depth=5, n_estimators=100;, score=0.724 total time=  15.2s\n",
      "[CV 3/5] END .....max_depth=5, n_estimators=100;, score=0.717 total time=  14.7s\n",
      "[CV 4/5] END .....max_depth=5, n_estimators=100;, score=0.724 total time=  14.9s\n",
      "[CV 5/5] END .....max_depth=5, n_estimators=100;, score=0.720 total time=  14.8s\n"
     ]
    },
    {
     "data": {
      "text/plain": [
       "GridSearchCV(estimator=GradientBoostingClassifier(random_state=42),\n",
       "             param_grid={'max_depth': [3, 4, 5], 'n_estimators': [50, 100]},\n",
       "             scoring='f1_weighted', verbose=5)"
      ]
     },
     "execution_count": 39,
     "metadata": {},
     "output_type": "execute_result"
    }
   ],
   "source": [
    "param_grid = {\n",
    "    \"max_depth\" : [3,4,5],\n",
    "    \"n_estimators\": [50,100]\n",
    "}\n",
    "\n",
    "# run grid search\n",
    "grid_search = GridSearchCV(GradientBoostingClassifier(random_state=42),\n",
    "    param_grid=param_grid, \n",
    "    scoring = 'f1_weighted',\n",
    "    verbose=5)\n",
    "\n",
    "grid_search.fit(X_train, y_train)"
   ]
  },
  {
   "cell_type": "code",
   "execution_count": 40,
   "id": "97c7ce02",
   "metadata": {},
   "outputs": [
    {
     "data": {
      "text/plain": [
       "(GradientBoostingClassifier(max_depth=5, random_state=42),\n",
       " {'max_depth': 5, 'n_estimators': 100},\n",
       " 0.7220939548687156)"
      ]
     },
     "execution_count": 40,
     "metadata": {},
     "output_type": "execute_result"
    }
   ],
   "source": [
    "grid_search.best_estimator_, grid_search.best_params_, grid_search.best_score_"
   ]
  },
  {
   "cell_type": "markdown",
   "id": "ad1395a4",
   "metadata": {},
   "source": [
    "#### Model comparison\n",
    "\n",
    "I tried 3 different classifier and tuned the best fitting of them using GridSearch. The table show my choosen models and their scores."
   ]
  },
  {
   "cell_type": "code",
   "execution_count": 41,
   "id": "36a54095",
   "metadata": {},
   "outputs": [],
   "source": [
    "def printMetrics(models):\n",
    "    '''\n",
    "    Print table for metrics of the given models.\n",
    "    \n",
    "    INPUT\n",
    "    models - dictionary that contains model name as key and the model itself as value\n",
    "    '''\n",
    "    metrics_df = pd.DataFrame(columns=['model', 'accuracy_score', 'f1-score'])\n",
    "    for name, model in models.items():\n",
    "        y_pred = model.predict(X_test)\n",
    "        metrics_df = metrics_df.append({'model': name,\n",
    "                           'accuracy_score': accuracy_score(y_test, y_pred),\n",
    "                           'f1-score': f1_score(y_test, y_pred, average='weighted')\n",
    "                          }, ignore_index=True)\n",
    "    return metrics_df\n",
    "        "
   ]
  },
  {
   "cell_type": "code",
   "execution_count": 42,
   "id": "8638dfad",
   "metadata": {},
   "outputs": [
    {
     "data": {
      "text/html": [
       "<div>\n",
       "<style scoped>\n",
       "    .dataframe tbody tr th:only-of-type {\n",
       "        vertical-align: middle;\n",
       "    }\n",
       "\n",
       "    .dataframe tbody tr th {\n",
       "        vertical-align: top;\n",
       "    }\n",
       "\n",
       "    .dataframe thead th {\n",
       "        text-align: right;\n",
       "    }\n",
       "</style>\n",
       "<table border=\"1\" class=\"dataframe\">\n",
       "  <thead>\n",
       "    <tr style=\"text-align: right;\">\n",
       "      <th></th>\n",
       "      <th>model</th>\n",
       "      <th>accuracy_score</th>\n",
       "      <th>f1-score</th>\n",
       "    </tr>\n",
       "  </thead>\n",
       "  <tbody>\n",
       "    <tr>\n",
       "      <th>0</th>\n",
       "      <td>randomForest</td>\n",
       "      <td>0.729490</td>\n",
       "      <td>0.722865</td>\n",
       "    </tr>\n",
       "    <tr>\n",
       "      <th>1</th>\n",
       "      <td>adaBoost</td>\n",
       "      <td>0.706241</td>\n",
       "      <td>0.686025</td>\n",
       "    </tr>\n",
       "    <tr>\n",
       "      <th>2</th>\n",
       "      <td>gradientBoost</td>\n",
       "      <td>0.731659</td>\n",
       "      <td>0.721353</td>\n",
       "    </tr>\n",
       "    <tr>\n",
       "      <th>3</th>\n",
       "      <td>bestGradientBoost</td>\n",
       "      <td>0.734604</td>\n",
       "      <td>0.725515</td>\n",
       "    </tr>\n",
       "  </tbody>\n",
       "</table>\n",
       "</div>"
      ],
      "text/plain": [
       "               model  accuracy_score  f1-score\n",
       "0       randomForest        0.729490  0.722865\n",
       "1           adaBoost        0.706241  0.686025\n",
       "2      gradientBoost        0.731659  0.721353\n",
       "3  bestGradientBoost        0.734604  0.725515"
      ]
     },
     "execution_count": 42,
     "metadata": {},
     "output_type": "execute_result"
    }
   ],
   "source": [
    "printMetrics({'randomForest':randomForest, 'adaBoost':adaBoost, 'gradientBoost':gradientBoost, 'bestGradientBoost': grid_search})"
   ]
  },
  {
   "cell_type": "markdown",
   "id": "b510e49f",
   "metadata": {},
   "source": [
    "I was able to optimize the gradientBoost classifier a little bit even it is not mind-blowing."
   ]
  },
  {
   "cell_type": "markdown",
   "id": "bfdddead",
   "metadata": {},
   "source": [
    "## Conclusion\n",
    "\n",
    "#### Reflexion\n",
    "\n",
    "I started with 3 datasets given by Starbucks, the first was containing the portfolio, that describes to attributes of specific offers Starbucks sends to their customers. The second dataset contains attributes for each user and the third one contains events or interactions between the customers and the Starbucks App. \n",
    "\n",
    "Given that I was questions myself if I can find relations between customers, the offers offered to them and the interaction the customers take with their offers. Or more specific \"Will a 42 years old woman with an income of 75000 a received offer view or even complete?\"\n",
    "\n",
    "I was contentration on the third dataset with all the transscriptions. I extracted three datasets that contained the received, viewed and completed events. Since I'm a developer I had could written a function, that computes the interaction between a customer and the given offer, but a quick check (iteration over a dataset and check if it exist in another datasert) told me, that this step would take to much time. So I deceided to merge my dataframes, compute the duration, and remove unlogical (viewed before received) and duplicated (because of the merge) rows. This worked pretty well, but I missed some events and it took me quite a lot of time, to understand whats happen to them. Fortunately I found an explanation, that I described above. They were the last received once, which where not viewed.\n",
    "\n",
    "from taht point it was easy to merge the attributes from the profiles, get rid of the person id columns, remove the rows with missing data (that were just persons with missing attributes) and dummy the offer_id and gender columns to prepare the dataframe for the machine learning part.\n",
    "\n",
    "My question is a classification problem, so I started with the RandomForest classifier, which I thought that would be a good choice. I found interesting that this classifier seems to overfit on my data. The train score was at 1.0 while the test score could not get better than 0.72. Then I tried AdaBoost classifier which was score was a bit worst than RandomForest, but at leats it doesn't seem to overfit. So I tried another classifier GradientBoost, that fits very well and had ven the best scores of the three. SO this was a lucky punch, because I had never really used GradientBoost before, it was not even on my mind.\n",
    "\n",
    "I tried to tune my chosen classifier a bit, but that does not really improve the performance. An accuracy score of 0.735 and an f1-score of 0.726 is may be not outstanding, but when I look at the data, then this is a good result. Since a person will not end up with the same status for a given offer, the metrics of the model can not be perfect. A person A which gets an offer B several times, the person will not always complete or view this offer."
   ]
  },
  {
   "cell_type": "markdown",
   "id": "63edfa7d",
   "metadata": {},
   "source": [
    "#### Improvements\n",
    "\n",
    "Here are some thoughts about how this project can be improved.\n",
    "\n",
    "**1. Find the missing events**\n",
    "    \n",
    "During the merge of the offer datasets I lost some events and tried to explain the reason therefore. It would be better to work with all these events, so go, find and add them to the offers.\n",
    "    \n",
    "**2. Take care of the transactions**\n",
    "    \n",
    "In the transcript dataset the is an event type transcriptions. Combine this data with the offers dataframe. How many transactions did a customer in each timeframe between the offer received? How much money does a customer spent during such a timeframe?\n",
    "    "
   ]
  },
  {
   "cell_type": "markdown",
   "id": "ef9247ef",
   "metadata": {},
   "source": [
    "## The App\n",
    "\n",
    "The repository of this project contains an App. There is a README.md file where you can find the instructions how to run this app.\n",
    "\n",
    "When I wrote the app I had to change my model a little bit. I decided to drop the columns 'time' and 'became_member_on', because it makes it easier to play around with the three given values 'gender', 'age' and 'income'. I also set up initial values for the three parameter. Feel free to change theses values and checked what my model suggests. Start with the gender and see what's happen."
   ]
  }
 ],
 "metadata": {
  "kernelspec": {
   "display_name": "Python 3 (ipykernel)",
   "language": "python",
   "name": "python3"
  },
  "language_info": {
   "codemirror_mode": {
    "name": "ipython",
    "version": 3
   },
   "file_extension": ".py",
   "mimetype": "text/x-python",
   "name": "python",
   "nbconvert_exporter": "python",
   "pygments_lexer": "ipython3",
   "version": "3.8.8"
  }
 },
 "nbformat": 4,
 "nbformat_minor": 5
}
